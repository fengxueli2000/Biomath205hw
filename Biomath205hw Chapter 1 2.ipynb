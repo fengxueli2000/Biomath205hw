{
 "cells": [
  {
   "cell_type": "markdown",
   "id": "4946d1d4",
   "metadata": {},
   "source": [
    "\n",
    "Fengxue Li "
   ]
  },
  {
   "cell_type": "markdown",
   "id": "49faf0bb",
   "metadata": {},
   "source": [
    "# chapter 1"
   ]
  },
  {
   "cell_type": "markdown",
   "id": "66ddb09c",
   "metadata": {},
   "source": [
    "## question 6"
   ]
  },
  {
   "cell_type": "markdown",
   "id": "78efba0b",
   "metadata": {},
   "source": [
    "$$r_1 = {-b + \\sqrt{b^2 - 4ac} \\over 2a}$$\n",
    "$$r_2 = {-b - \\sqrt{b^2 - 4ac} \\over 2a}$$"
   ]
  },
  {
   "cell_type": "markdown",
   "id": "fe3db3e3",
   "metadata": {},
   "source": [
    "$$ r_1 * r_2 = {-b + \\sqrt{b^2 - 4ac} \\over 2a} *{-b - \\sqrt{b^2 - 4ac} \\over 2a}$$"
   ]
  },
  {
   "cell_type": "markdown",
   "id": "8a189300",
   "metadata": {},
   "source": [
    "$$ = - {(-b + \\sqrt{b^2 - 4ac)} * (b +\\sqrt{b^2 - 4ac})\\over 4a^2}$$"
   ]
  },
  {
   "cell_type": "markdown",
   "id": "f0140103",
   "metadata": {},
   "source": [
    "$$ ={ -( b^2 -4ac -b^2) \\over 4a^2}$$"
   ]
  },
  {
   "cell_type": "markdown",
   "id": "11809875",
   "metadata": {},
   "source": [
    "$$ = {c\\over a}$$"
   ]
  },
  {
   "cell_type": "markdown",
   "id": "2478069f",
   "metadata": {},
   "source": [
    "## question 7"
   ]
  },
  {
   "cell_type": "markdown",
   "id": "123eb74e",
   "metadata": {},
   "source": [
    "$$ ax^3 + bx^2 + cx + d = 0$$\n",
    "$$ x = y -{b \\over 3a}$$"
   ]
  },
  {
   "cell_type": "markdown",
   "id": "2bd75183",
   "metadata": {},
   "source": [
    "a)\n",
    "$$ a(y -{b \\over 3a})^3 + b(y -{b \\over 3a})^2 + c(y -{b \\over 3a}) + d = 0$$"
   ]
  },
  {
   "cell_type": "markdown",
   "id": "d564095e",
   "metadata": {},
   "source": [
    "$$y^3 + ey + f = 0 $$\n",
    "$$ e = {(3ac - b^2) \\over 3a^2}$$\n",
    "$$ f = {2b^3 -9abc + 27a^2d \\over 27a^3}$$"
   ]
  },
  {
   "cell_type": "markdown",
   "id": "1ccb491f",
   "metadata": {},
   "source": [
    "b) $$ y = z-{e \\over 3z}$$\n",
    "$$(z-{e \\over 3z})^3  + e(z-{e \\over 3z}) + f = 0$$\n",
    "$$ z^6  + fz^3 -{e^3 \\over 27} = 0 $$"
   ]
  },
  {
   "cell_type": "markdown",
   "id": "3f01108d",
   "metadata": {},
   "source": [
    "c) $$w = z^3$$"
   ]
  },
  {
   "cell_type": "markdown",
   "id": "fba9d871",
   "metadata": {},
   "source": [
    "$$w^2 + mw +n  = 0$$\n",
    "$$ n = - {e^3 \\over 27}$$\n",
    "$$ m = f$$"
   ]
  },
  {
   "cell_type": "markdown",
   "id": "e8a46c26",
   "metadata": {},
   "source": [
    "$$wr_1 = {-m + \\sqrt{m^2 - 4n} \\over 2} = {-f \\over 2} + \\sqrt{{ f^2 \\over 4} +{e^3 \\over 27}} $$\n",
    "$$wr_2 = {-m - \\sqrt{m^2 - 4n} \\over 2}={-f \\over 2} - \\sqrt{{ f^2 \\over 4} +{e^3 \\over 27}} $$"
   ]
  },
  {
   "cell_type": "markdown",
   "id": "9a09c707",
   "metadata": {},
   "source": [
    "$$z = wr_1^{1\\over 3}* ({-1 \\over 2} + {\\sqrt 3 i \\over 2} )^k$$  \n",
    "$$ k = 0, 1 ,2 $$\n",
    "$$z = wr_2* ({-1 \\over 2} + {\\sqrt 3 i \\over 2} )^k$$  \n",
    "$$ k = 0, 1 ,2 $$\n",
    "we have six roots z and we have six x \n",
    "$$x = z - {e\\over 3z} - {b \\over 3a}$$"
   ]
  },
  {
   "cell_type": "code",
   "execution_count": 119,
   "id": "d904ad39",
   "metadata": {},
   "outputs": [
    {
     "data": {
      "text/plain": [
       "cubic (generic function with 1 method)"
      ]
     },
     "execution_count": 119,
     "metadata": {},
     "output_type": "execute_result"
    }
   ],
   "source": [
    "function cubic(a::T, b::T, c::T,d::T) where T <: Real \n",
    "e = (3*a*c - b^2) /(3*a^2)\n",
    "   f = (2* b^3 -9 * a*b*c + 27* a^2*d) /(27 * a^3)  \n",
    "   d = ((f)^2 + 4*(e/3)^3)\n",
    "   z1 = (-f/2 +  sqrt(complex(d))/2)\n",
    "   r1 = z1^(1/3) *(-0.5 + sqrt(3)/2im)^0\n",
    "   r2 = z1^(1/3) *(-0.5 + sqrt(3)/2im)^1\n",
    "   r3 = z1^(1/3) *(-0.5 + sqrt(3)/2im)^2\n",
    "   z2 = (-f/2 -  sqrt(complex(d))/2)\n",
    "   r4 = z2^(1/3) *(-0.5 + sqrt(3)/2im)^0\n",
    "   r5 = z2^(1/3) *(-0.5 + sqrt(3)/2im)^1\n",
    "   r6 = z2^(1/3) *(-0.5 + sqrt(3)/2im)^2\n",
    "    x1= r1-e/3r1-b/3a\n",
    "    x2= r2-e/3r2-b/3a\n",
    "    x3= r3-e/3r3-b/3a\n",
    "    x4= r4-e/3r4-b/3a\n",
    "    x5= r5-e/3r5-b/3a\n",
    "    x6= r6-e/3r6-b/3a\n",
    "    x = [x1,x2,x3,x4,x5,x6]   \n",
    "    return x\n",
    "end\n"
   ]
  },
  {
   "cell_type": "markdown",
   "id": "e77051fc",
   "metadata": {},
   "source": [
    "so we get six roots"
   ]
  },
  {
   "cell_type": "code",
   "execution_count": 120,
   "id": "38713a7e",
   "metadata": {},
   "outputs": [
    {
     "data": {
      "text/plain": [
       "6-element Vector{ComplexF64}:\n",
       "                3.0 + 1.1102230246251565e-16im\n",
       " 1.9999999999999998 - 2.220446049250313e-16im\n",
       "                1.0 + 5.551115123125783e-17im\n",
       "                3.0 - 1.1102230246251565e-16im\n",
       "                1.0 - 5.551115123125783e-17im\n",
       "                2.0 + 2.220446049250313e-16im"
      ]
     },
     "execution_count": 120,
     "metadata": {},
     "output_type": "execute_result"
    }
   ],
   "source": [
    "cubic(1,-6, 11,-6)"
   ]
  },
  {
   "cell_type": "markdown",
   "id": "e260dbf6",
   "metadata": {},
   "source": [
    "## question 10"
   ]
  },
  {
   "cell_type": "code",
   "execution_count": 8,
   "id": "939c4fcf",
   "metadata": {},
   "outputs": [
    {
     "data": {
      "text/plain": [
       "trang (generic function with 1 method)"
      ]
     },
     "execution_count": 8,
     "metadata": {},
     "output_type": "execute_result"
    }
   ],
   "source": [
    "function trang(x ::Vector{T}) where T <: Integer\n",
    "    a = sort(x)\n",
    "    n = size(a, 1)\n",
    "    for k = 1:n\n",
    "        for i = (k + 1) :n\n",
    "            for j = (i + 1) :n\n",
    "                if  a[k]^2 + a[i] ^2 == a[j] ^2\n",
    "                    println(a[k],\",\",  a[i],\",\", a[j])\n",
    "                end\n",
    "            end\n",
    "        end\n",
    "    end\n",
    "end    "
   ]
  },
  {
   "cell_type": "code",
   "execution_count": 33,
   "id": "270e09bc",
   "metadata": {},
   "outputs": [
    {
     "name": "stdout",
     "output_type": "stream",
     "text": [
      "3,4,5\n",
      "5,12,13\n",
      "6,8,10\n",
      "9,12,15\n"
     ]
    }
   ],
   "source": [
    "x=[15,13,14,11,12,10,9,8,7,1,2,3,4,5,6]\n",
    "trang(x)"
   ]
  },
  {
   "cell_type": "markdown",
   "id": "91d5f75e",
   "metadata": {},
   "source": [
    "# chapter 2"
   ]
  },
  {
   "cell_type": "markdown",
   "id": "8ad77ba6",
   "metadata": {},
   "source": [
    "## question 2\n",
    "1. the array has all same numbers\n",
    "\n",
    "2. the array is sorted increasing\n",
    "\n",
    "3. the array is sorted decreasing\n"
   ]
  },
  {
   "cell_type": "markdown",
   "id": "03342933",
   "metadata": {},
   "source": [
    "## question 4"
   ]
  },
  {
   "cell_type": "code",
   "execution_count": 1,
   "id": "e0d3fd6f",
   "metadata": {},
   "outputs": [
    {
     "data": {
      "text/plain": [
       "quickso (generic function with 3 methods)"
      ]
     },
     "execution_count": 1,
     "metadata": {},
     "output_type": "execute_result"
    }
   ],
   "source": [
    "function quickso(x::Vector{T},c::T, left = 1, right = length(x)) where T <:Real\n",
    "#function selectc(x ::Vector{T}, c::T, left = 1, right = length(x)) where T <:Real\n",
    "    j = length(x)\n",
    "    i = 1\n",
    "    diff = 1000\n",
    "    m = 0\n",
    "    n = 0\n",
    "    for j in 2:length(x)\n",
    "    if abs(x[i] + x[j] - c) < diff\n",
    "       diff = abs(x[i] + x[j] - c)\n",
    "        m = i\n",
    "        n = j       \n",
    "    end\n",
    "    if x[i] + x[j] > c    \n",
    "         j = j-1\n",
    "     else\n",
    "          i = i+1\n",
    "    end\n",
    "    end\n",
    "    return diff ,x[m], x[n]\n",
    "end\n",
    "        \n",
    "     \n",
    "        \n",
    "        "
   ]
  },
  {
   "cell_type": "code",
   "execution_count": 1,
   "id": "abf3a3f3",
   "metadata": {},
   "outputs": [
    {
     "data": {
      "text/plain": [
       "60"
      ]
     },
     "execution_count": 1,
     "metadata": {},
     "output_type": "execute_result"
    }
   ],
   "source": [
    "x = [12,13,14,18]\n",
    "c = 60\n"
   ]
  },
  {
   "cell_type": "code",
   "execution_count": 3,
   "id": "1b6274ab",
   "metadata": {},
   "outputs": [
    {
     "data": {
      "text/plain": [
       "(28, 14, 18)"
      ]
     },
     "execution_count": 3,
     "metadata": {},
     "output_type": "execute_result"
    }
   ],
   "source": [
    "quickso(x,c)"
   ]
  },
  {
   "cell_type": "markdown",
   "id": "face270b",
   "metadata": {},
   "source": [
    "## question 5"
   ]
  },
  {
   "cell_type": "code",
   "execution_count": 70,
   "id": "e7f7a277",
   "metadata": {},
   "outputs": [
    {
     "data": {
      "text/plain": [
       "merge2 (generic function with 1 method)"
      ]
     },
     "execution_count": 70,
     "metadata": {},
     "output_type": "execute_result"
    }
   ],
   "source": [
    "function merge2(x1::Vector{T}, x2::Vector{T}) where T <:Real\n",
    "    n1 = length(x1)\n",
    "    n2 = length(x2)\n",
    "    v = zeros(1,n1+n2)\n",
    "    i = 1\n",
    "    j = 1\n",
    "    k = 1\n",
    "     while (i <= n1 && j <= n2)\n",
    "        if x1[i] <= x2[j]\n",
    "            v[k] = x1[i]\n",
    "            k = k+1\n",
    "            i = i+1\n",
    "        else v[k] = x2[j]\n",
    "            k = k+1\n",
    "            j = j+1\n",
    "        end\n",
    "    end\n",
    "    while i <= n1\n",
    "        v[k] = x1[i]\n",
    "        i = i+1\n",
    "        k = k+1\n",
    "    end\n",
    "    while j <= n2\n",
    "        v[k] = x2[j]\n",
    "        j = j+1\n",
    "        k = k+1\n",
    "    end\n",
    "\n",
    "  return v\n",
    "end"
   ]
  },
  {
   "cell_type": "code",
   "execution_count": 71,
   "id": "a60bb976",
   "metadata": {},
   "outputs": [
    {
     "data": {
      "text/plain": [
       "1×6 Matrix{Float64}:\n",
       " 1.0  2.0  2.0  3.0  3.0  4.0"
      ]
     },
     "execution_count": 71,
     "metadata": {},
     "output_type": "execute_result"
    }
   ],
   "source": [
    "x1 = [1,2,3]\n",
    "x2 = [2,3,4]\n",
    "merge2(x1,x2)"
   ]
  },
  {
   "cell_type": "markdown",
   "id": "d358163e",
   "metadata": {},
   "source": [
    "##  question 9"
   ]
  },
  {
   "cell_type": "code",
   "execution_count": 5,
   "id": "9d62fb5e",
   "metadata": {},
   "outputs": [
    {
     "data": {
      "text/plain": [
       "close (generic function with 1 method)"
      ]
     },
     "execution_count": 5,
     "metadata": {},
     "output_type": "execute_result"
    }
   ],
   "source": [
    "function close(value,q,p)\n",
    "    if abs(p-value) > abs(q-value)\n",
    "        return q\n",
    "    elseif abs(p-value) == abs(q-value)\n",
    "        return q\n",
    "    else return p\n",
    "    end\n",
    "end"
   ]
  },
  {
   "cell_type": "code",
   "execution_count": 6,
   "id": "031f3ee5",
   "metadata": {},
   "outputs": [
    {
     "data": {
      "text/plain": [
       "2"
      ]
     },
     "execution_count": 6,
     "metadata": {},
     "output_type": "execute_result"
    }
   ],
   "source": [
    "close(1,2,3)"
   ]
  },
  {
   "cell_type": "code",
   "execution_count": 8,
   "id": "a5bf6a95",
   "metadata": {},
   "outputs": [
    {
     "data": {
      "text/plain": [
       "binary_search (generic function with 1 method)"
      ]
     },
     "execution_count": 8,
     "metadata": {},
     "output_type": "execute_result"
    }
   ],
   "source": [
    "function binary_search(x::Vector, value)\n",
    "    n = length(x)\n",
    "    if value >= x[n]\n",
    "        return x[n]\n",
    "    end\n",
    "    if value <= x[1]\n",
    "        return x[1]\n",
    "    end\n",
    "    # binary search\n",
    "    a=1\n",
    "    b = length(x)\n",
    "    m = 0\n",
    "    while a <= b\n",
    "        m = div(a + b, 2) \n",
    "        if x[m] == value\n",
    "            return x[m]\n",
    "        end\n",
    "        if x[m] > value \n",
    "            if x[m-1] < value\n",
    "                return close(value, x[m], x[m-1])\n",
    "            else b = m\n",
    "            end\n",
    "        else\n",
    "            if x[m+1] > value\n",
    "                return close(value, x[m], x[m+1])\n",
    "            else a = m\n",
    "            end\n",
    "        end\n",
    "    end\n",
    "                \n",
    "end\n",
    "            "
   ]
  },
  {
   "cell_type": "code",
   "execution_count": 13,
   "id": "74bdce98",
   "metadata": {},
   "outputs": [
    {
     "data": {
      "text/plain": [
       "7"
      ]
     },
     "execution_count": 13,
     "metadata": {},
     "output_type": "execute_result"
    }
   ],
   "source": [
    "x = [1,2,3,4,8,9]\n",
    "c = 7"
   ]
  },
  {
   "cell_type": "code",
   "execution_count": 14,
   "id": "e29525ca",
   "metadata": {},
   "outputs": [
    {
     "data": {
      "text/plain": [
       "8"
      ]
     },
     "execution_count": 14,
     "metadata": {},
     "output_type": "execute_result"
    }
   ],
   "source": [
    "binary_search(x,c)"
   ]
  }
 ],
 "metadata": {
  "kernelspec": {
   "display_name": "Julia 1.8.1",
   "language": "julia",
   "name": "julia-1.8"
  },
  "language_info": {
   "file_extension": ".jl",
   "mimetype": "application/julia",
   "name": "julia",
   "version": "1.8.1"
  }
 },
 "nbformat": 4,
 "nbformat_minor": 5
}
