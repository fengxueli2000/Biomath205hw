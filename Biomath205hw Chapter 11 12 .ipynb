{
 "cells": [
  {
   "cell_type": "markdown",
   "id": "0c66936c",
   "metadata": {},
   "source": [
    "## chapter 12"
   ]
  },
  {
   "cell_type": "markdown",
   "id": "6be2c634",
   "metadata": {},
   "source": [
    "### question 2"
   ]
  },
  {
   "cell_type": "markdown",
   "id": "6f59fe96",
   "metadata": {},
   "source": [
    "d)\n",
    "\n",
    "$f(x) = e^{-x}e^{-e^{-x}}$\n",
    "\n",
    "F(x) = $e^{e^{-x}} = u$\n",
    "\n",
    "$e^{-x} = -\\ln u$\n",
    "\n",
    "$x = -\\ln (-\\ln u)$\n",
    "\n",
    "sample from uniform distribution and $x = -\\ln (-\\ln u)$"
   ]
  },
  {
   "cell_type": "markdown",
   "id": "088a0ed8",
   "metadata": {},
   "source": [
    "e) \n",
    "\n",
    "f(x) = ${1 \\over \\pi \\sqrt{x(1-x)} } 1_{(0,1)}(x)$"
   ]
  },
  {
   "cell_type": "markdown",
   "id": "695de896",
   "metadata": {},
   "source": [
    "$F(x) = {1 \\over \\pi} \\arcsin(\\sqrt{x-a \\over b-a})= u$"
   ]
  },
  {
   "cell_type": "markdown",
   "id": "0e3fa253",
   "metadata": {},
   "source": [
    "$\\pi u = \\arcsin(\\sqrt{x-a \\over b-a})$"
   ]
  },
  {
   "cell_type": "markdown",
   "id": "d2bd4197",
   "metadata": {},
   "source": [
    "$(b-a)\\sin^2(\\pi u) = x-a$\n",
    "\n",
    "$(b-a)\\sin^2(\\pi u)+ a = x$"
   ]
  },
  {
   "cell_type": "markdown",
   "id": "84d42d5c",
   "metadata": {},
   "source": [
    "sample from uniform distribution and $x = (b-a)\\sin^2(\\pi u)+ a $"
   ]
  },
  {
   "cell_type": "markdown",
   "id": "df7572d0",
   "metadata": {},
   "source": [
    "f) \n",
    "\n",
    "$f(x) = \\alpha x^{\\alpha -1}$\n",
    "\n",
    "$F(x) = x^{\\alpha} = u$\n",
    "\n",
    "$x = u^{1 \\over \\alpha}$\n",
    "\n"
   ]
  },
  {
   "cell_type": "markdown",
   "id": "96f92157",
   "metadata": {},
   "source": [
    "sample from uniform distribution and $x = u^{1 \\over \\alpha}$"
   ]
  },
  {
   "cell_type": "markdown",
   "id": "954b1f67",
   "metadata": {},
   "source": [
    "### question 5"
   ]
  },
  {
   "cell_type": "markdown",
   "id": "76b3767d",
   "metadata": {},
   "source": [
    "we use inverse transfermation, cumulative probabilities are examined in turn until one exceeds lambda."
   ]
  },
  {
   "cell_type": "code",
   "execution_count": 2,
   "id": "0e235292",
   "metadata": {},
   "outputs": [
    {
     "name": "stderr",
     "output_type": "stream",
     "text": [
      "\u001b[32m\u001b[1m    Updating\u001b[22m\u001b[39m registry at `~/.julia/registries/General.toml`\n",
      "\u001b[32m\u001b[1m   Resolving\u001b[22m\u001b[39m package versions...\n",
      "\u001b[32m\u001b[1m    Updating\u001b[22m\u001b[39m `~/.julia/environments/v1.8/Project.toml`\n",
      " \u001b[90m [2913bbd2] \u001b[39m\u001b[92m+ StatsBase v0.33.21\u001b[39m\n",
      "\u001b[32m\u001b[1m  No Changes\u001b[22m\u001b[39m to `~/.julia/environments/v1.8/Manifest.toml`\n"
     ]
    }
   ],
   "source": [
    "import Pkg; Pkg.add(\"StatsBase\")"
   ]
  },
  {
   "cell_type": "code",
   "execution_count": 33,
   "id": "cb3314fa",
   "metadata": {},
   "outputs": [
    {
     "name": "stderr",
     "output_type": "stream",
     "text": [
      "WARNING: using StatsBase.sample in module Main conflicts with an existing identifier.\n"
     ]
    }
   ],
   "source": [
    "using StatsBase, Statistics"
   ]
  },
  {
   "cell_type": "code",
   "execution_count": 28,
   "id": "31ba9c32",
   "metadata": {},
   "outputs": [
    {
     "data": {
      "text/plain": [
       "poisson_dev (generic function with 1 method)"
      ]
     },
     "execution_count": 28,
     "metadata": {},
     "output_type": "execute_result"
    }
   ],
   "source": [
    "function poisson_dev(lambda::T, n::Int) where T <: Real\n",
    "x = zeros(n)\n",
    "    for i = 1:n\n",
    "        # initional value \n",
    "        mm = 0 \n",
    "        p = exp(-lambda)\n",
    "        s = p\n",
    "        u = rand(1)\n",
    "    while u[1] > s\n",
    "    mm = mm + 1\n",
    "    p = p*lambda/mm # probability at y\n",
    "    s = s + p #  cumulative probabilities\n",
    "        end\n",
    "    x[i] = mm  \n",
    "    end\n",
    "return x\n",
    "end"
   ]
  },
  {
   "cell_type": "code",
   "execution_count": 58,
   "id": "79842383",
   "metadata": {},
   "outputs": [
    {
     "data": {
      "text/plain": [
       "200-element Vector{Float64}:\n",
       " 1.0\n",
       " 2.0\n",
       " 4.0\n",
       " 2.0\n",
       " 3.0\n",
       " 1.0\n",
       " 0.0\n",
       " 0.0\n",
       " 2.0\n",
       " 1.0\n",
       " 1.0\n",
       " 6.0\n",
       " 2.0\n",
       " ⋮\n",
       " 2.0\n",
       " 0.0\n",
       " 1.0\n",
       " 1.0\n",
       " 4.0\n",
       " 2.0\n",
       " 2.0\n",
       " 2.0\n",
       " 0.0\n",
       " 4.0\n",
       " 1.0\n",
       " 2.0"
      ]
     },
     "execution_count": 58,
     "metadata": {},
     "output_type": "execute_result"
    }
   ],
   "source": [
    "outcome = poisson_dev(2,200)"
   ]
  },
  {
   "cell_type": "code",
   "execution_count": 59,
   "id": "ba49a5ca",
   "metadata": {},
   "outputs": [
    {
     "data": {
      "text/plain": [
       "1.94"
      ]
     },
     "execution_count": 59,
     "metadata": {},
     "output_type": "execute_result"
    }
   ],
   "source": [
    "mean(outcome)"
   ]
  },
  {
   "cell_type": "code",
   "execution_count": 60,
   "id": "11c496c9",
   "metadata": {},
   "outputs": [
    {
     "data": {
      "text/plain": [
       "1.9059296482412063"
      ]
     },
     "execution_count": 60,
     "metadata": {},
     "output_type": "execute_result"
    }
   ],
   "source": [
    "var(outcome)"
   ]
  },
  {
   "cell_type": "markdown",
   "id": "ac042e33",
   "metadata": {},
   "source": [
    "### question 6"
   ]
  },
  {
   "cell_type": "markdown",
   "id": "392ac98f",
   "metadata": {},
   "source": [
    "$f(x) = x^{\\alpha - 1}(1-x)^{\\beta - 1}$\n",
    "\n",
    "$f'(x) =(1-x)^{\\beta - 1}\\alpha x^{\\alpha - 2} - x^{\\alpha - 1} \\beta (1-x)^{\\beta - 2} = x^{\\alpha - 2} (1-x)^{\\beta - 2}  [\\alpha(1-x) - \\beta x] $\n",
    "\n",
    "let $f'(x_0) = 0$ we get the maximum\n",
    "\n",
    "$ [\\alpha(1-x) - \\beta x] = 0$\n",
    "\n",
    "$x_0 = {\\alpha \\over \\alpha + \\beta}$\n",
    "\n",
    "$f(x_0) = {({\\alpha \\over \\alpha + \\beta})^{\\alpha - 1}}{({\\beta \\over \\alpha + \\beta})^{\\beta - 1}} = c$"
   ]
  },
  {
   "cell_type": "markdown",
   "id": "9160163f",
   "metadata": {},
   "source": [
    "we implment it in to julia code"
   ]
  },
  {
   "cell_type": "code",
   "execution_count": 128,
   "id": "a1bf5a48",
   "metadata": {},
   "outputs": [
    {
     "data": {
      "text/plain": [
       "beta_dev (generic function with 1 method)"
      ]
     },
     "execution_count": 128,
     "metadata": {},
     "output_type": "execute_result"
    }
   ],
   "source": [
    "function beta_dev(alpha::T, beta::T, n::Int)where T <: Real\n",
    "i = 1\n",
    "x = zeros(n)\n",
    "# calculate c\n",
    "c = (alpha/(alpha + beta))^(alpha -1)*(beta/(alpha + beta))^(beta-1)\n",
    "betafunc = SpecialFunctions.beta(alpha,beta)\n",
    "while i < (n+1)\n",
    "    u = rand(1)[1] # sample from uniform distribution\n",
    "    y = rand(1)[1] # sample y from uniform distribution\n",
    "    p = (1/betafunc) * y^(alpha - 1)*(1-y)^(beta - 1) # calculate p(y)\n",
    "    cu = u*c\n",
    "    if cu < p # if u*c < p(y) accept\n",
    "        x[i] = y\n",
    "    end\n",
    "        i = i+1\n",
    "end\n",
    "return x\n",
    "end\n",
    "\n"
   ]
  },
  {
   "cell_type": "code",
   "execution_count": 206,
   "id": "472e8f3e",
   "metadata": {},
   "outputs": [
    {
     "data": {
      "text/plain": [
       "2000-element Vector{Float64}:\n",
       " 0.0\n",
       " 0.37757520261070077\n",
       " 0.6832533005672742\n",
       " 0.4621426997071282\n",
       " 0.6657293939891524\n",
       " 0.0\n",
       " 0.32589025272617544\n",
       " 0.5833140330112684\n",
       " 0.06480900285285196\n",
       " 0.35407629515682937\n",
       " 0.7685932659641982\n",
       " 0.0\n",
       " 0.2364560588790735\n",
       " ⋮\n",
       " 0.5605802033888094\n",
       " 0.2517255209083028\n",
       " 0.35896956050479467\n",
       " 0.0\n",
       " 0.4367252150831722\n",
       " 0.29611071439974523\n",
       " 0.5825318843300517\n",
       " 0.49049591102805035\n",
       " 0.6970734916333179\n",
       " 0.2906006378351037\n",
       " 0.2898080127652668\n",
       " 0.0"
      ]
     },
     "execution_count": 206,
     "metadata": {},
     "output_type": "execute_result"
    }
   ],
   "source": [
    "# mean of outcome 2 is 0.5\n",
    "outcome2 =  beta_dev(2,2,2000)\n",
    "# mean of outcome 3 is 2/3\n",
    "outcome3 =  beta_dev(2,4,2000)"
   ]
  },
  {
   "cell_type": "code",
   "execution_count": 207,
   "id": "971ed7fe",
   "metadata": {},
   "outputs": [
    {
     "data": {
      "text/plain": [
       "0.4803393583834385"
      ]
     },
     "execution_count": 207,
     "metadata": {},
     "output_type": "execute_result"
    }
   ],
   "source": [
    "mean(outcome2)"
   ]
  },
  {
   "cell_type": "code",
   "execution_count": 208,
   "id": "d50a845b",
   "metadata": {},
   "outputs": [
    {
     "data": {
      "text/plain": [
       "0.37275254776403527"
      ]
     },
     "execution_count": 208,
     "metadata": {},
     "output_type": "execute_result"
    }
   ],
   "source": [
    "mean(outcome3)"
   ]
  },
  {
   "cell_type": "markdown",
   "id": "1ee7b93d",
   "metadata": {},
   "source": [
    "### 16 Design and implement a Gibbs sampler for generating bivariate normal deviates."
   ]
  },
  {
   "cell_type": "markdown",
   "id": "c60eea33",
   "metadata": {},
   "source": [
    "we know the theorem that if $X_1, X_2$ ~ BN$\\mu_1, \\mu_2, \\sigma_1^2, \\sigma^2_2, \\rho$\n",
    "\n",
    "$X_1|X2 = x_2$~N$(\\mu_1 + \\rho {\\sigma_1 \\over \\sigma_2}(x_2-\\mu_2), \\sigma^2_1(1-\\rho^2))$ \n",
    "\n",
    "so we have the algorithm"
   ]
  },
  {
   "cell_type": "markdown",
   "id": "2405e709",
   "metadata": {},
   "source": [
    "1. set initional value x1 = mu1, x2 = mu2\n",
    "\n",
    "2. sample x1 from N$(\\mu_1 + \\rho {\\sigma_1 \\over \\sigma_2}(x_2-\\mu_2), \\sigma^2_1(1-\\rho^2))$ \n",
    "\n",
    "3. update x1\n",
    "\n",
    "4. sample x2 fromN$(\\mu_2 + \\rho {\\sigma_2 \\over \\sigma_2}(x_1-\\mu_1), \\sigma^2_2(1-\\rho^2))$\n",
    "\n",
    "5. update x2"
   ]
  },
  {
   "cell_type": "markdown",
   "id": "bc6ac9af",
   "metadata": {},
   "source": [
    "we implement the algorithm into julia"
   ]
  },
  {
   "cell_type": "code",
   "execution_count": 101,
   "id": "7a6bc652",
   "metadata": {},
   "outputs": [],
   "source": [
    "using Random, Distributions"
   ]
  },
  {
   "cell_type": "code",
   "execution_count": 163,
   "id": "2c6bef4c",
   "metadata": {},
   "outputs": [
    {
     "data": {
      "text/plain": [
       "gibb_biv_norm (generic function with 1 method)"
      ]
     },
     "execution_count": 163,
     "metadata": {},
     "output_type": "execute_result"
    }
   ],
   "source": [
    "function gibb_biv_norm(n::Int, mu1::T,mu2::T, sig1 ::T,sig2 ::T,pho::T )where T <: Real\n",
    "    # mu1, mu2 are the sample mean, sig1 sig2 are the variance, \n",
    "    # pho is covariance parameter\n",
    "    i = 2\n",
    "    x = zeros(n, 2)\n",
    "    x[1,1] = mu1\n",
    "    x[1,2] = mu2\n",
    "while i < (n + 1)\n",
    "        x2 = x[i-1,2]\n",
    "        m1 = mu1 +(x2 - mu2)*pho*(sig1/sig2)\n",
    "        d1 = Normal(m1, ((1-pho^2)*sig1)^0.5)\n",
    "        x[i,1] = rand(d1,1)[1]\n",
    "        x1 = x[i,1]\n",
    "        m2 = mu2 + (x1-mu1)*pho*(sig2/sig1)\n",
    "        d2 = Normal(m2, ((1-pho^2)*sig2)^0.5)\n",
    "        x[i,2] = rand(d2,1)[1]\n",
    "        i = i + 1\n",
    "    end\n",
    "    return x\n",
    "end"
   ]
  },
  {
   "cell_type": "code",
   "execution_count": 182,
   "id": "e9147d3c",
   "metadata": {},
   "outputs": [
    {
     "data": {
      "text/plain": [
       "5000×2 Matrix{Float64}:\n",
       "  1.0         1.0\n",
       "  0.0685173   1.41434\n",
       "  2.21586     1.39197\n",
       "  1.00594     1.70267\n",
       "  0.209411    2.675\n",
       " -0.144399    0.186997\n",
       "  1.09934     0.41919\n",
       " -0.756052    1.69263\n",
       "  3.13169     2.59985\n",
       "  1.48165     1.39216\n",
       " -0.379695   -0.0127065\n",
       "  2.34958     0.739501\n",
       " -0.0200622   0.358363\n",
       "  ⋮          \n",
       " -0.0364555   1.36146\n",
       "  1.3605      1.76135\n",
       "  0.481195    1.44124\n",
       "  1.02104     0.0062536\n",
       "  1.25978     0.668518\n",
       "  3.19971     1.52422\n",
       "  0.503777    1.52714\n",
       "  1.52976    -0.388379\n",
       "  0.630576    0.923322\n",
       "  0.0548858   2.58413\n",
       "  0.391726    1.67589\n",
       "  1.89976     0.938975"
      ]
     },
     "execution_count": 182,
     "metadata": {},
     "output_type": "execute_result"
    }
   ],
   "source": [
    "outcme4 =  gibb_biv_norm(5000,1,1,1,1,0.3)"
   ]
  },
  {
   "cell_type": "code",
   "execution_count": 183,
   "id": "0c5b08c7",
   "metadata": {},
   "outputs": [
    {
     "data": {
      "text/plain": [
       "2001-element Vector{Float64}:\n",
       "  1.3360148031020096\n",
       "  0.9950284636716196\n",
       "  2.322038303719833\n",
       "  1.674125098488624\n",
       "  1.2762453576098638\n",
       "  0.532803864259255\n",
       "  0.4647711043106298\n",
       "  1.216845068188944\n",
       "  2.2099986241523633\n",
       "  0.9793170718053966\n",
       "  0.3569379817545506\n",
       "  0.12824230880811804\n",
       "  0.3324078290596011\n",
       "  ⋮\n",
       "  2.828824091178733\n",
       "  2.448031864893587\n",
       "  1.5925482457504967\n",
       " -0.23936712983330444\n",
       "  0.44402973023347225\n",
       "  0.7037676883571882\n",
       "  0.6901287983274437\n",
       "  2.3139884456840183\n",
       "  1.880552186671209\n",
       " -0.05845914415373876\n",
       "  1.5636889154935707\n",
       "  0.6227290679921518"
      ]
     },
     "execution_count": 183,
     "metadata": {},
     "output_type": "execute_result"
    }
   ],
   "source": [
    "# 2000 burn in \n",
    "outcome41 = outcme4[2000:4000,1]\n",
    "outcome42 = outcme4[2000:4000,2]"
   ]
  },
  {
   "cell_type": "code",
   "execution_count": 187,
   "id": "75098782",
   "metadata": {},
   "outputs": [
    {
     "data": {
      "text/plain": [
       "0.3092233226046545"
      ]
     },
     "execution_count": 187,
     "metadata": {},
     "output_type": "execute_result"
    }
   ],
   "source": [
    "cor(outcome41, outcome42)"
   ]
  },
  {
   "cell_type": "code",
   "execution_count": 188,
   "id": "f4f09528",
   "metadata": {},
   "outputs": [
    {
     "data": {
      "text/plain": [
       "1.0181769721663672"
      ]
     },
     "execution_count": 188,
     "metadata": {},
     "output_type": "execute_result"
    }
   ],
   "source": [
    "mean(outcome41)"
   ]
  },
  {
   "cell_type": "code",
   "execution_count": 189,
   "id": "4c3cae01",
   "metadata": {},
   "outputs": [
    {
     "data": {
      "text/plain": [
       "0.9717803941857359"
      ]
     },
     "execution_count": 189,
     "metadata": {},
     "output_type": "execute_result"
    }
   ],
   "source": [
    "mean(outcome42)"
   ]
  },
  {
   "cell_type": "markdown",
   "id": "49ce6ea5",
   "metadata": {},
   "source": [
    "## chapter11"
   ]
  },
  {
   "cell_type": "markdown",
   "id": "e35e3325",
   "metadata": {},
   "source": [
    "### question 3"
   ]
  },
  {
   "cell_type": "markdown",
   "id": "3350afe7",
   "metadata": {},
   "source": [
    "1. $c_j = 1$ \n",
    "\n",
    "$\\hat{c} = {1\\over n} \\sum (e^{-2\\pi i \\over n})^{jk} $\n",
    "\n",
    "when k = 0, $\\hat{c} = 1$\n",
    "\n",
    "when $k \\neq 0$, $\\hat{c} = {1\\over n} {1-(e^{-2\\pi i \\over n})^{nk}\n",
    "\\over 1-(e^{-2\\pi i \\over n})^{k}} = {1\\over n}  {1-1\n",
    "\\over 1-(e^{-2\\pi i \\over n})^{k}} = 0$\n",
    "\n"
   ]
  },
  {
   "cell_type": "markdown",
   "id": "b08802b3",
   "metadata": {},
   "source": [
    "2. $j = 0, c_j = 1$\n",
    "\n",
    "$\\hat{c} = {1 \\over n} *1 = {1\\over n}$"
   ]
  },
  {
   "cell_type": "markdown",
   "id": "1cc069de",
   "metadata": {},
   "source": [
    "3.\n",
    "\n",
    "$\\hat{c} ={1\\over n}(  {1-(e^{-4\\pi i \\over n})^{nk \\over 2}\n",
    "\\over 1-(e^{-4 \\pi i \\over n})^{k}} + \n",
    " {1-(-e^{-4\\pi i \\over n})^{nk \\over 2}\n",
    "\\over 1-(-e^{-4 \\pi i \\over n})^{k}})$"
   ]
  },
  {
   "cell_type": "markdown",
   "id": "3dfc6f7e",
   "metadata": {},
   "source": [
    "if k = 0, $\\hat{c} = 0$\n",
    "\n",
    "if $k \\neq 0$, $\\hat{c} = 0$ if ${n \\over 2}$ is even\n",
    "\n",
    "$\\hat{c} ={1\\over n} { 1\\over 1-(-e^{-4 \\pi i \\over n})^{k}}$ if  ${n \\over 2}$ is odd"
   ]
  },
  {
   "cell_type": "markdown",
   "id": "9328fe9e",
   "metadata": {},
   "source": [
    "4. \n",
    "$c_j = 1$  for $j = 0, 1, {1 \\over 2} - 1$\n",
    "\n",
    "$\\hat{c} = {1\\over n} \\sum^{{1 \\over 2} - 1} (e^{-2\\pi i \\over n})^{jk} $\n",
    "\n",
    "when k = 0, $\\hat{c} = {1 \\over 2}$\n",
    "\n",
    "when $k \\neq 0$, $\\hat{c} = {1\\over n} {1-(e^{-2\\pi i \\over n})^{nk \\over 2}\n",
    "\\over 1-(e^{-2\\pi i \\over n})^{k}} = \n",
    "{1\\over n} {1-(e^{-\\pi i k})\n",
    "\\over 1-(e^{-2\\pi i \\over n})^{k}}$"
   ]
  },
  {
   "cell_type": "markdown",
   "id": "3e42d5ae",
   "metadata": {},
   "source": [
    "if k is even, then $\\hat{c} = 0$\n",
    "\n",
    "if k is odd, then $\\hat{c} ={1\\over n} {2\n",
    "\\over 1-(e^{-2\\pi i \\over n})^{k}} $"
   ]
  },
  {
   "cell_type": "markdown",
   "id": "f18de393",
   "metadata": {},
   "source": [
    "### question 6"
   ]
  },
  {
   "cell_type": "markdown",
   "id": "6316aca9",
   "metadata": {},
   "source": [
    "$\\hat{T_r c_k} = {1 \\over rn} \\sum^{rn-1}S_r c_j u^{-jk}$\n",
    " \n",
    "$ = {1\\over rn} \\sum^{rn-1} c_{j-r} u^{-jk} $\n",
    " \n",
    "$ = {1 \\over n} \\sum^{n-1}u^{-jk}$\n",
    " \n",
    "$ = {1 \\over n} u^{-jk} \\sum^{n-1}c_{j-r} u^{-(j-r)k}$\n",
    "\n",
    "$= {1 \\over n} u^{-jk} \\sum^{n-1}c_{l} u^{-(l)k}$\n",
    " \n",
    "$ = u^{-jk} \\hat{c}$"
   ]
  },
  {
   "cell_type": "markdown",
   "id": "23981992",
   "metadata": {},
   "source": [
    "$\\hat{Rc_k} = {1\\over n}\\sum Rc_j u^{-kj}$\n",
    "\n",
    "$= R{1\\over }\\sum Rc_j u^{-kj}$\n",
    "\n",
    "$ = R \\hat{c}$"
   ]
  },
  {
   "cell_type": "code",
   "execution_count": null,
   "id": "7b977005",
   "metadata": {},
   "outputs": [],
   "source": []
  }
 ],
 "metadata": {
  "kernelspec": {
   "display_name": "Julia 1.8.1",
   "language": "julia",
   "name": "julia-1.8"
  },
  "language_info": {
   "file_extension": ".jl",
   "mimetype": "application/julia",
   "name": "julia",
   "version": "1.8.1"
  }
 },
 "nbformat": 4,
 "nbformat_minor": 5
}
