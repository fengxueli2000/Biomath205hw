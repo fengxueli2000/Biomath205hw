{
 "cells": [
  {
   "cell_type": "markdown",
   "id": "a34041fa",
   "metadata": {},
   "source": [
    "## chapter 13"
   ]
  },
  {
   "cell_type": "markdown",
   "id": "c6b84492",
   "metadata": {},
   "source": [
    "### question 1"
   ]
  },
  {
   "cell_type": "code",
   "execution_count": 1,
   "id": "d927017c",
   "metadata": {},
   "outputs": [
    {
     "data": {
      "text/plain": [
       "f (generic function with 1 method)"
      ]
     },
     "execution_count": 1,
     "metadata": {},
     "output_type": "execute_result"
    }
   ],
   "source": [
    "# define f(x) = 1/x\n",
    "function f(x)\n",
    "return 1/x\n",
    "end"
   ]
  },
  {
   "cell_type": "code",
   "execution_count": 34,
   "id": "07d93d22",
   "metadata": {},
   "outputs": [
    {
     "data": {
      "text/plain": [
       "formu13_2 (generic function with 1 method)"
      ]
     },
     "execution_count": 34,
     "metadata": {},
     "output_type": "execute_result"
    }
   ],
   "source": [
    "# calculate f''(x) using formulas 13.2\n",
    "function formu13_2(x, delta)\n",
    "    return [f(x+delta)-2*f(x)+f(x-delta)]/(delta)^2\n",
    "end\n",
    "    "
   ]
  },
  {
   "cell_type": "code",
   "execution_count": 30,
   "id": "b4bd81a8",
   "metadata": {},
   "outputs": [
    {
     "data": {
      "text/plain": [
       "formu13_3 (generic function with 1 method)"
      ]
     },
     "execution_count": 30,
     "metadata": {},
     "output_type": "execute_result"
    }
   ],
   "source": [
    "# calculate f''(x) using formulas 13.3\n",
    "function formu13_3(x, delta)\n",
    "    return (1/(2*delta^2))*[f(x+delta)-f(x+delta*im)+f(x-delta)-f(x-delta*im)]\n",
    "end"
   ]
  },
  {
   "cell_type": "markdown",
   "id": "c5baa0e3",
   "metadata": {},
   "source": [
    "f(x) = ${1 \\over x}$\n",
    "\n",
    "f''(x) = ${2 \\over x^2}$\n",
    "\n",
    "f''(1) = 2"
   ]
  },
  {
   "cell_type": "code",
   "execution_count": 48,
   "id": "f9b4f33d",
   "metadata": {},
   "outputs": [
    {
     "data": {
      "text/plain": [
       "6-element Vector{Float64}:\n",
       " 0.00010000000000000002\n",
       " 1.0e-8\n",
       " 1.0000000000000002e-12\n",
       " 1.0000000000000002e-16\n",
       " 1.0000000000000004e-20\n",
       " 9.999999999999997e-25"
      ]
     },
     "execution_count": 48,
     "metadata": {},
     "output_type": "execute_result"
    }
   ],
   "source": [
    "x = [formu13_2(1, 0.1)[1] - 2,\n",
    "formu13_2(1, 0.01)[1] - 2,\n",
    "formu13_2(1, 0.001)[1] - 2,\n",
    "formu13_2(1, 0.0001)[1] - 2,\n",
    "formu13_2(1, 0.00001)[1] - 2,\n",
    "formu13_2(1, 0.000001)[1] - 2]\n",
    "\n",
    "y = [formu13_3(1, 0.1)[1] - 2,\n",
    "formu13_3(1, 0.01)[1] - 2,\n",
    "formu13_3(1, 0.001)[1] - 2,\n",
    "formu13_3(1, 0.0001)[1] - 2,\n",
    "formu13_3(1, 0.00001)[1] - 2,\n",
    "formu13_3(1, 0.000001)[1] - 2]\n",
    "\n",
    "error1 = [0.1^2,0.01^2, 0.001^2, 0.0001^2, 0.00001^2, 0.000001^2]\n",
    "error2 = [0.1^4,0.01^4, 0.001^4, 0.0001^4, 0.00001^4, 0.000001^4]"
   ]
  },
  {
   "cell_type": "code",
   "execution_count": 55,
   "id": "2aabd2c1",
   "metadata": {},
   "outputs": [
    {
     "data": {
      "text/plain": [
       "6×4 Matrix{ComplexF64}:\n",
       "    0.020202+0.0im     0.01+0.0im   0.00020002+0.0im   0.0001+0.0im\n",
       "  0.00020002+0.0im   0.0001+0.0im   2.00004e-8+0.0im   1.0e-8+0.0im\n",
       "  2.00024e-6+0.0im   1.0e-6+0.0im  2.00018e-12+0.0im  1.0e-12+0.0im\n",
       "  1.00495e-8+0.0im   1.0e-8+0.0im  -1.77061e-8+0.0im  1.0e-16+0.0im\n",
       "  1.65481e-7+0.0im  1.0e-10+0.0im   1.65481e-7+0.0im  1.0e-20+0.0im\n",
       " -4.42434e-5+0.0im  1.0e-12+0.0im  0.000177801+0.0im  1.0e-24+0.0im"
      ]
     },
     "execution_count": 55,
     "metadata": {},
     "output_type": "execute_result"
    }
   ],
   "source": [
    "# compare the approximate error and the predicted error\n",
    "hcat(x, error1, y, error2)"
   ]
  },
  {
   "cell_type": "markdown",
   "id": "5dee075b",
   "metadata": {},
   "source": [
    "the predicted error estimates are accurate when delta is greater than $10^{-4}$, but when the delta gets smaller, it is not accurate."
   ]
  },
  {
   "cell_type": "markdown",
   "id": "5ad57778",
   "metadata": {},
   "source": [
    "### question 2"
   ]
  },
  {
   "cell_type": "markdown",
   "id": "c704a88f",
   "metadata": {},
   "source": [
    "let f(x) = $1\\over x$"
   ]
  },
  {
   "cell_type": "code",
   "execution_count": 143,
   "id": "82eb283c",
   "metadata": {},
   "outputs": [
    {
     "data": {
      "text/plain": [
       "more (generic function with 2 methods)"
      ]
     },
     "execution_count": 143,
     "metadata": {},
     "output_type": "execute_result"
    }
   ],
   "source": [
    "# define the nth derivative of f(x) using the formular \n",
    "function more(f, n, h, x)\n",
    "    a = zeros(n+1)\n",
    "    for k = 0:n\n",
    "        a[k+1] = (-1)^(n-k)*binomial(n, k)*f(x+k*h)\n",
    "    end \n",
    "  return   sum(a)*(1/h^n)\n",
    "end"
   ]
  },
  {
   "cell_type": "markdown",
   "id": "71668edd",
   "metadata": {},
   "source": [
    "the 4th derivative of f(x) is\n",
    "$f^4(x) = {32 \\over x^5}$\n",
    "\n",
    "$f^4(2) = 0.75$"
   ]
  },
  {
   "cell_type": "code",
   "execution_count": 140,
   "id": "0c6f5dc7",
   "metadata": {},
   "outputs": [
    {
     "data": {
      "text/plain": [
       "0.7136866597701186"
      ]
     },
     "execution_count": 140,
     "metadata": {},
     "output_type": "execute_result"
    }
   ],
   "source": [
    "# check the performance\n",
    "more(f, 4, 0.01, 2)"
   ]
  },
  {
   "cell_type": "code",
   "execution_count": 141,
   "id": "1963aecf",
   "metadata": {},
   "outputs": [
    {
     "data": {
      "text/plain": [
       "0.7470690732702677"
      ]
     },
     "execution_count": 141,
     "metadata": {},
     "output_type": "execute_result"
    }
   ],
   "source": [
    " more(f, 4, 0.001, 2)"
   ]
  },
  {
   "cell_type": "code",
   "execution_count": 142,
   "id": "75082388",
   "metadata": {},
   "outputs": [
    {
     "data": {
      "text/plain": [
       "6.10622663543836"
      ]
     },
     "execution_count": 142,
     "metadata": {},
     "output_type": "execute_result"
    }
   ],
   "source": [
    " more(f, 4, 0.0001, 2)"
   ]
  },
  {
   "cell_type": "markdown",
   "id": "ab04accc",
   "metadata": {},
   "source": [
    " when h is 0.001, the estimate is more accurate, but the error is still very big."
   ]
  }
 ],
 "metadata": {
  "kernelspec": {
   "display_name": "Julia 1.8.1",
   "language": "julia",
   "name": "julia-1.8"
  },
  "language_info": {
   "file_extension": ".jl",
   "mimetype": "application/julia",
   "name": "julia",
   "version": "1.8.1"
  }
 },
 "nbformat": 4,
 "nbformat_minor": 5
}
