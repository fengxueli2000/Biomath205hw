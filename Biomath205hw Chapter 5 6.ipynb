{
 "cells": [
  {
   "cell_type": "markdown",
   "id": "adb4d506",
   "metadata": {},
   "source": [
    "## chapter 5"
   ]
  },
  {
   "cell_type": "markdown",
   "id": "5c0ece3c",
   "metadata": {},
   "source": [
    "### question 2"
   ]
  },
  {
   "cell_type": "markdown",
   "id": "cabd9e1b",
   "metadata": {},
   "source": [
    "for k in 1:(n-1)\n",
    "\n",
    "compute multipliers needs flop: (n-k) \n",
    "\n",
    "adjust rows: $2(n-k)^2$\n",
    "\n",
    "$\\sum^{n-1}_1 2(n-k)^2 +  (n-k) $ = $\\sum^{n-1}_1 m^2 + m$ = $ {(m-1)(m)(2m-1) \\over 6} + {(m)(m-1 \\over 2}\n",
    "\n",
    "$= {2n^3 - 3n^2 +n \\over 3} + {n^2 -n \\over 2}$\n",
    "\n",
    "so that the flop is O($2n^3 \\over 3$)"
   ]
  },
  {
   "cell_type": "markdown",
   "id": "b6639da3",
   "metadata": {},
   "source": [
    "### question 3\n",
    "a)\n",
    "\n",
    "we have two lower triangular matrix. A and B\n",
    "\n",
    "let, 0 < i < j < n, $a_{ij}$ = 0, $b_{ij}$ = 0 and we calculate entries in C= A*B, \n",
    "\n",
    "$c_{ij} = a_{i1} b_{1j}  + a_{i2}  b_{2j}  + ... + a_{ii}  b_{ij}  ... +a_{ij}  b_{jj}  + ... a_{in}  b_{nj} $"
   ]
  },
  {
   "cell_type": "markdown",
   "id": "17b5dd96",
   "metadata": {},
   "source": [
    "we have know that for $b_{1j},...,b_{j-1,j} = 0$, so $a_{i1} b_{1j}  + a_{i2}  b_{2j}  + ... + a_{ii}  b_{ij}  ... +a_{ij}  b_{jj}$=0\n",
    "\n",
    "and we know  $a_{ij},...,a_{in} = 0$, so $a_{ij}  b_{jj}  + ... a_{in}  b_{nj}$ = 0\n",
    "\n",
    "hence they added up, $c_{ij}$ = 0"
   ]
  },
  {
   "cell_type": "markdown",
   "id": "4f2825fc",
   "metadata": {},
   "source": [
    "b)we show this by induction\n",
    "\n",
    "when n = 2\n",
    "\n",
    "$$\\begin{bmatrix} a & b  \\\\ 0  &d \\end{bmatrix}$$, the inverse is $${1\\over ad} \\begin{bmatrix} d & -b  \\\\\n",
    "0  &a\\end{bmatrix}$$, which is also a  upper triangular"
   ]
  },
  {
   "cell_type": "markdown",
   "id": "8f329467",
   "metadata": {},
   "source": [
    "$$X_i = \\begin{bmatrix} X_{i1} & 0 & .. . & 0\\\\ \n",
    "                        0 & X_{i2} & ... & 0 \\\\\n",
    "                        ...  \\\\ \n",
    "                        0 & ... & 0 & X_{ik}\\end{bmatrix}$$\n",
    "                        \n",
    "$$X_{ik} =\\begin{bmatrix} x^t_{i1k}, ... , x^t_{in_{ik}k} \\end{bmatrix}  $$                         \n",
    "                        \n",
    "$$Z_i = \\begin{bmatrix} Z_{i1} & 0 & .. . & 0\\\\ \n",
    "                        0 & Z_{i2} & ... & 0 \\\\\n",
    "                        ...  \\\\ \n",
    "                        0 & ... & 0 & Z_{ik}\\end{bmatrix}$$\n",
    "                        \n",
    "$$Z_{ik} =\\begin{bmatrix}z^t_{i1k}, ... , z^t_{in_{ik}k} \\end{bmatrix}  $$  \n",
    "\n",
    "$$\\Sigma_i = \\begin{bmatrix} \\sigma_{i1}I_{n_{ik}} & 0 & .. . & 0\\\\ \n",
    "                        0 & \\sigma_{i2}I_{n_{ik}} & ... & 0 \\\\\n",
    "                        ...  \\\\ \n",
    "                        0 & ... & 0 & \\sigma_{ik}I_{n_{ik}}\\end{bmatrix}$$\n"
   ]
  },
  {
   "cell_type": "markdown",
   "id": "8f470202",
   "metadata": {},
   "source": [
    "suppose n = k is true, $A_k$  is an upper trangular , inverse $A_k$ is also anuppter trangular,\n",
    "\n",
    "let $$A_{k+ 1}  = \\begin{bmatrix} A_k & a2  \\\\ 0  &a3 \\end{bmatrix}$$, \n",
    "\n",
    "and B is the inverse of $A_{k+ 1}$ and B is \n",
    "$$\\begin{bmatrix} A^{-1} & b2  \\\\ b3  & b4 \\end{bmatrix}$$\n",
    "\n",
    "because B is inverse of A, A*B = $I_{n+1}$\n",
    "\n",
    "so $$ A*B  = \\begin{bmatrix} A*A^{-1} & c2  \\\\ a3b3  &c3 \\end{bmatrix} = I$$\n",
    "\n",
    "hence a3b3 has to be zero for every a3,\n",
    "\n",
    "so b3 = 0 and  $$ B =\\begin{bmatrix} A^{-1} & b2  \\\\ 0  & b4 \\end{bmatrix}$$\n",
    "\n",
    "\n"
   ]
  },
  {
   "cell_type": "markdown",
   "id": "2a63a22e",
   "metadata": {},
   "source": [
    "C) we show this by induction\n",
    "\n",
    "when n = 2\n",
    "\n",
    "$$\\begin{bmatrix} a & b  \\\\ 0  &d \\end{bmatrix}$$, the inverse is $${1\\over ad} \\begin{bmatrix} d & -b  \\\\\n",
    "0  &a\\end{bmatrix}$$, d and a are positive"
   ]
  },
  {
   "cell_type": "markdown",
   "id": "2a8dd9f6",
   "metadata": {},
   "source": [
    "suppose n = k is true, $A_k$  is an upper trangular , inverse $A_k$ is also anuppter trangular,\n",
    "\n",
    "let $$A_{k+ 1}  = \\begin{bmatrix} A_k & a2  \\\\ 0  &a3 \\end{bmatrix}$$, \n",
    "\n",
    "and B is the inverse of $A_{k+ 1}$ and B is \n",
    "$$\\begin{bmatrix} A^{-1} & b2  \\\\ 0  & b4 \\end{bmatrix}$$\n",
    "\n",
    "because B is inverse of A, A*B = $I_{n+1}$\n",
    "\n",
    "so $$ A*B  = \\begin{bmatrix} A*A^{-1} & c2  \\\\ 0  & a3b4 \\end{bmatrix} = I$$\n",
    "\n",
    "hence a3b4 = 1 and a3 is positive,\n",
    "\n",
    "so that b4 is positive"
   ]
  },
  {
   "cell_type": "markdown",
   "id": "64ccaf8b",
   "metadata": {},
   "source": [
    "C) we show this by induction\n",
    "\n",
    "when n = 2\n",
    "\n",
    "$$\\begin{bmatrix} 1 & b  \\\\ 0  &1 \\end{bmatrix}$$, the inverse is $$ \\begin{bmatrix} 1 & -b  \\\\\n",
    "0  &1\\end{bmatrix}$$, "
   ]
  },
  {
   "cell_type": "markdown",
   "id": "2d100593",
   "metadata": {},
   "source": [
    "suppose n = k is true, $A_k$  is an upper trangular , inverse $A_k$ is also anuppter trangular,\n",
    "\n",
    "let $$A_{k+ 1}  = \\begin{bmatrix} A_k & a2  \\\\ 0  &1 \\end{bmatrix}$$, \n",
    "\n",
    "and B is the inverse of $A_{k+ 1}$ and B is \n",
    "$$\\begin{bmatrix} A^{-1} & b2  \\\\ 0  & b4 \\end{bmatrix}$$\n",
    "\n",
    "because B is inverse of A, A*B = $I_{n+1}$\n",
    "\n",
    "so $$ A*B  = \\begin{bmatrix} A*A^{-1} & c2  \\\\ 0  & b4 \\end{bmatrix} = I$$\n",
    "\n",
    "hence b4 = 1 and a3 is positive,\n",
    "\n",
    "$$\\begin{bmatrix} A^{-1} & b2  \\\\ 0  & 1 \\end{bmatrix}$$ with all diagnoal entris are 1"
   ]
  },
  {
   "cell_type": "markdown",
   "id": "502dd575",
   "metadata": {},
   "source": [
    "### question 4"
   ]
  },
  {
   "cell_type": "markdown",
   "id": "e1cd5943",
   "metadata": {},
   "source": [
    "we want to show that an orthogonal upper-triangular matrix is diagonal matrix\n",
    "\n",
    "we can prove this by incudction\n",
    "\n",
    "when n = 2\n",
    "\n",
    "$$\\begin{bmatrix} a & b  \\\\ 0  &d \\end{bmatrix}$$\n",
    "\n",
    "b has to be zero, otherwise $a_1^t a_2 = ab \\neq 0$  and contradict with matrix is an orthogonal matrix"
   ]
  },
  {
   "cell_type": "markdown",
   "id": "e1e60d1d",
   "metadata": {},
   "source": [
    "suppose for n, $A_n$ is  diagonal\n",
    "\n",
    "for  n + 1, $$B_{n+1} =\\begin{bmatrix} A & b_n  \\\\ 0  &d \\end{bmatrix}$$"
   ]
  },
  {
   "cell_type": "markdown",
   "id": "125097f6",
   "metadata": {},
   "source": [
    "soppose there is a non-zero emelemt in $b_n$ is $b_{in}$\n",
    "\n",
    "$a_i * b_n$  = $a_{1i}a_{1n} + ...+ a_{ii}a_{in}.. + a_{ni}a_{nn}$\n",
    "\n",
    "becasue it is upper trangular matrix, so $a_{ii}$ is not equal to zero, $a_{ii}a_{in} \\neq 0$,\n",
    "\n",
    "because A is diagonial, so that $a_{ij} = 0$ for $ i \\neq j$\n",
    "\n",
    "hence $a_i * b_n = 0 + ... + a_{ii}a_{in}  \\neq 0 $, which contradicts with B is an orthogonal matrix.\n",
    "\n",
    "hence we showed that an orthogonal upper-triangular matrix is diagonal is also true for n+1.\n",
    "\n",
    "the statement has be proved\n"
   ]
  },
  {
   "cell_type": "markdown",
   "id": "d7551f2f",
   "metadata": {},
   "source": [
    "### question 7 Find by hand the Cholesky decomposition of the matrix"
   ]
  },
  {
   "cell_type": "markdown",
   "id": "f7c6a262",
   "metadata": {},
   "source": [
    "$$A =\\begin{bmatrix} 2 & -2  \\\\ -2  &5 \\end{bmatrix}\n",
    "= \\begin{bmatrix} L11 & 0  \\\\ L  &L22 \\end{bmatrix}\n",
    "\\begin{bmatrix} L11 & L  \\\\ 0  &L22 \\end{bmatrix}$$"
   ]
  },
  {
   "cell_type": "markdown",
   "id": "47da0668",
   "metadata": {},
   "source": [
    "2 = $L11^2$, L11= $\\sqrt(2)$\n",
    "\n",
    "-2 = L11L, L= $-\\sqrt(2)$ \n",
    "\n",
    "5 = $L^2 + L22^2$  L22= $\\sqrt(3)$ \n",
    "\n",
    "therefore \n",
    "\n",
    "$$A\n",
    "= \\begin{bmatrix} \\sqrt(2) & 0  \\\\ -\\sqrt(2)  &\\sqrt(3) \\end{bmatrix}\n",
    "\\begin{bmatrix} \\sqrt(2) & -\\sqrt(2)  \\\\ 0  &\\sqrt(3) \\end{bmatrix}$$"
   ]
  },
  {
   "cell_type": "markdown",
   "id": "12e87260",
   "metadata": {},
   "source": [
    "### question 8  Show that the matrices are both valid Cholesky-like decompositions of the positive semidefinite matrix"
   ]
  },
  {
   "cell_type": "markdown",
   "id": "ec418e9a",
   "metadata": {},
   "source": [
    "Cholesky Decomposition $ LL^t = A$\n"
   ]
  },
  {
   "cell_type": "code",
   "execution_count": 20,
   "id": "744ad9ca",
   "metadata": {},
   "outputs": [
    {
     "data": {
      "text/plain": [
       "3×3 Matrix{Int64}:\n",
       " 1  2   2\n",
       " 2  4   4\n",
       " 2  4  17"
      ]
     },
     "execution_count": 20,
     "metadata": {},
     "output_type": "execute_result"
    }
   ],
   "source": [
    "B = [1 0 0\n",
    "2 0 0\n",
    "2 3 2]\n",
    "B * transpose(B)"
   ]
  },
  {
   "cell_type": "markdown",
   "id": "a406d326",
   "metadata": {},
   "source": [
    "we shown that B is lower-triangular matrix such that $BB^t=A$, so B is Cholesky-like decompositions of A"
   ]
  },
  {
   "cell_type": "code",
   "execution_count": 21,
   "id": "3fd875ae",
   "metadata": {},
   "outputs": [
    {
     "data": {
      "text/plain": [
       "3×3 Matrix{Float64}:\n",
       " 1.0  2.0   2.0\n",
       " 2.0  4.0   4.0\n",
       " 2.0  4.0  17.0"
      ]
     },
     "execution_count": 21,
     "metadata": {},
     "output_type": "execute_result"
    }
   ],
   "source": [
    "C = [1 0 0\n",
    "2 0 0 \n",
    "2 0 13^0.5]\n",
    "C * transpose(C)\n"
   ]
  },
  {
   "cell_type": "markdown",
   "id": "10ee8509",
   "metadata": {},
   "source": [
    "so we shown that B is lower-triangular matrix such that $CC^t=A$, so C is Cholesky-like decompositions of A"
   ]
  },
  {
   "cell_type": "markdown",
   "id": "8d7c824f",
   "metadata": {},
   "source": [
    "### question 9 we want to show that the Cholesky decomposition of band matrix is also a mabd matrix"
   ]
  },
  {
   "cell_type": "markdown",
   "id": "9a2573ed",
   "metadata": {},
   "source": [
    "we want to show this by induction\n",
    "\n",
    "for n = 2, \n",
    "\n",
    "$$A  =\\begin{bmatrix} a1 & a2  \\\\ a3 & a4 \\end{bmatrix}\n",
    "= \\begin{bmatrix} L11 & 0  \\\\ L  &L22 \\end{bmatrix}\n",
    "\\begin{bmatrix} L11 & L  \\\\ 0  &L22 \\end{bmatrix}$$"
   ]
  },
  {
   "cell_type": "markdown",
   "id": "6a214d36",
   "metadata": {},
   "source": [
    "if d = 0, then $$A  =\\begin{bmatrix} a1 & 0  \\\\ 0 & a4 \\end{bmatrix} $$\n",
    "\n",
    "L*L11 = 0, L = 0,\n",
    "\n",
    "$$L=  \\begin{bmatrix} L11 & 0  \\\\ 0  &L22 \\end{bmatrix}$$\n",
    "\n",
    "so it is true for n = 2\n"
   ]
  },
  {
   "cell_type": "markdown",
   "id": "19c8fb73",
   "metadata": {},
   "source": [
    "then we suppose that if $A_n$ is band matrix, then its decomposition is also a band matrix, and we show that it is true for $A_{n+1}$"
   ]
  },
  {
   "cell_type": "markdown",
   "id": "7fa66e25",
   "metadata": {},
   "source": [
    "A is banded by d, so that  $$A_{n+1}  =\\begin{bmatrix} a11 & a12  & ...& a1(d+1) & 0 &... & 0\\\\ \n",
    "a21 \\\\\n",
    "...\\\\\n",
    "a(d+1)1&&A_{n}\\\\\n",
    "0\\\\\n",
    "...\\\\\n",
    "0 \\end{bmatrix}$$\n",
    "\n",
    "$$= \\begin{bmatrix} l11 & 0  & ...&0 & 0 &... & 0\\\\ \n",
    "l21\\\\\n",
    "...\\\\l(d+1)1&&L_{n}\\\\\n",
    "l(d+2)1\\\\\n",
    "...\\\\\n",
    "ln1 \\end{bmatrix}\n",
    " \\begin{bmatrix} l11 & l21  & ...&l(d+1)1&l(d+2)1  &... & ln1\\\\ \n",
    "0\\\\\n",
    "...\\\\0   &&& &L_{n}\\\\\n",
    "0\\\\\n",
    "...\\\\\n",
    "0 \\end{bmatrix}$$"
   ]
  },
  {
   "cell_type": "markdown",
   "id": "59566c7c",
   "metadata": {},
   "source": [
    "we want to solve equation $a = l11l$, which is equavalent to\n",
    "$$\\begin{bmatrix} a21 \\\\\n",
    "...\\\\\n",
    "a(d+1)1\\\\\n",
    "0\\\\\n",
    "...\\\\\n",
    "0 \\end{bmatrix} = l11\n",
    "\\begin{bmatrix} l21 \\\\\n",
    "...\\\\\n",
    "l(d+1)1\\\\\n",
    "l(d+2)1\\\\\n",
    "...\\\\\n",
    "ln1 \\end{bmatrix} $$"
   ]
  },
  {
   "cell_type": "markdown",
   "id": "b239083a",
   "metadata": {},
   "source": [
    "therefore we can we that li1= 0 fot i-1>d.\n",
    "\n",
    "so that the Cholesky decomposition  is \n",
    "\n",
    "$$= \\begin{bmatrix} l11 & 0  & ...&0 & 0 &... & 0\\\\ \n",
    "l21\\\\\n",
    "...\\\\l(d+1)1&&L_{n}\\\\\n",
    "0\\\\\n",
    "...\\\\\n",
    "0 \\end{bmatrix}$$"
   ]
  },
  {
   "cell_type": "markdown",
   "id": "e4af6de2",
   "metadata": {},
   "source": [
    "we know that for $L_n$, lij= 0 if |j-i|>d and we also shown that fot the first column, lij= 0 if |j-i|>d, hence we proved that $L_{n+1}$ is also a band matrix.\n",
    "\n",
    "then the statement has been proved"
   ]
  },
  {
   "cell_type": "markdown",
   "id": "b0cd6d40",
   "metadata": {},
   "source": [
    "### question 11  Show that inversion of an arbitrary square matrix B can be reduced to inversion of a positive definite matrix"
   ]
  },
  {
   "cell_type": "markdown",
   "id": "742c6add",
   "metadata": {},
   "source": [
    "we know$B^{-1}B= I$\n",
    "\n",
    "multiply $B^T$ each side, then we get $B^{-1}BB^T= B^T$\n",
    "\n",
    "then multiply $(BB^T)^{-1}$ each side,  then we get $B^{-1}= B^T(BB^T)^{-1}$\n",
    "\n",
    "since $(BB^T)$ is positive definite matrix, hence we shown that  inversion of an arbitrary square matrix B can be reduced to inversion of a positive definite matrix\n",
    "\n"
   ]
  },
  {
   "cell_type": "markdown",
   "id": "2c218067",
   "metadata": {},
   "source": [
    "## chapter 6"
   ]
  },
  {
   "cell_type": "markdown",
   "id": "6052c311",
   "metadata": {},
   "source": [
    "### question 1"
   ]
  },
  {
   "cell_type": "markdown",
   "id": "80127546",
   "metadata": {},
   "source": [
    "$ f(x) = e^x - x - 2$\n",
    "\n",
    "$ f'(x) = e^x - 1$\n",
    "\n",
    "$x_{n+1} = x_n - {e^x - x - 2 \\over e^x - 1}$"
   ]
  },
  {
   "cell_type": "code",
   "execution_count": 2,
   "id": "a0d3651c",
   "metadata": {},
   "outputs": [
    {
     "data": {
      "text/plain": [
       "(1.1461932206205825, 7)"
      ]
     },
     "execution_count": 2,
     "metadata": {},
     "output_type": "execute_result"
    }
   ],
   "source": [
    "function newton(f::Function, fp::Function, x::Real, tol::Real)\n",
    "(xold, xnew) = (x, zero(x))\n",
    "for iteration = 1:100\n",
    "xnew = xold - f(xold) / fp(xold)\n",
    "if abs(f(xnew)) < tol\n",
    "return (xnew, iteration)\n",
    "end\n",
    "xold = xnew\n",
    "end\n",
    "return (xnew, 100)\n",
    "end\n",
    "\n",
    "f(x) = exp(x) - x - 2\n",
    "fp(x) = exp(x) - 1\n",
    "(x, iterations) = newton(f, fp, 2.5, 1e-14)"
   ]
  },
  {
   "cell_type": "markdown",
   "id": "442e2aa7",
   "metadata": {},
   "source": [
    "so that the answer of the equation is 1.1461932206205825, then we check with `fzero` function"
   ]
  },
  {
   "cell_type": "code",
   "execution_count": 3,
   "id": "d43ff0a0",
   "metadata": {},
   "outputs": [
    {
     "name": "stderr",
     "output_type": "stream",
     "text": [
      "\u001b[32m\u001b[1m   Resolving\u001b[22m\u001b[39m package versions...\n",
      "\u001b[32m\u001b[1m  No Changes\u001b[22m\u001b[39m to `~/.julia/environments/v1.8/Project.toml`\n",
      "\u001b[32m\u001b[1m  No Changes\u001b[22m\u001b[39m to `~/.julia/environments/v1.8/Manifest.toml`\n"
     ]
    },
    {
     "data": {
      "text/plain": [
       "1.1461932206205825"
      ]
     },
     "execution_count": 3,
     "metadata": {},
     "output_type": "execute_result"
    }
   ],
   "source": [
    "import Pkg; Pkg.add(\"Roots\")\n",
    "using Roots\n",
    "f(x) = exp(x) - x - 2\n",
    "fzero(f,1,2)\n"
   ]
  },
  {
   "cell_type": "markdown",
   "id": "742dbc77",
   "metadata": {},
   "source": [
    "the results shows thats same"
   ]
  },
  {
   "cell_type": "markdown",
   "id": "d5d0d471",
   "metadata": {},
   "source": [
    "### question 2"
   ]
  },
  {
   "cell_type": "markdown",
   "id": "532c0668",
   "metadata": {},
   "source": [
    "first we use newton method\n",
    "\n",
    "$f(x) = we^w - x$\n",
    "\n",
    "$f'(x) = we^w + e^w$\n",
    "\n",
    "$w_{n + 1} = w - {(we^w -x) \\over (e^w + we^w)}\n",
    "= {(we^w + w^2 e^w - we^w +x)\\over (e^w + we^w)}\n",
    "= {( w^2 e^w  +x)\\over (e^w + we^w)}\n",
    "= {w( w e^w  +{x\\over w})\\over (e^w + we^w)}\n",
    "= {w( w   +{x\\over we^w})\\over (1 + w)}$\n",
    "\n",
    "therefore we shows the iterates"
   ]
  },
  {
   "cell_type": "markdown",
   "id": "9ff586e7",
   "metadata": {},
   "source": [
    "we know $w_{n + 1}= {w_n( w_n   +{x\\over w_ne^w_n})\\over (1 + w_n)}$\n",
    "\n",
    "which is equavalent with ${w_{n + 1} \\over w_n} = {( w_n   +{x\\over w_ne^{w_n}})\\over (1 + w_n)}$\n",
    "\n",
    "for $x <  w_ne^{w_n}$,$ {x\\over w_ne^w_n} < 1$,$ {( w_n   +{x\\over w_ne^{w_n}}) < (1 + w_n)}$, which shows that \n",
    "${( w_n   +{x\\over w_ne^{w_n}})\\over (1 + w_n)} < 1$ and then ${w_{n + 1} \\over w_n} < 1$, ${w_{n + 1} < w_n}$"
   ]
  },
  {
   "cell_type": "markdown",
   "id": "29bfeaea",
   "metadata": {},
   "source": [
    "for $x >  w_ne^{w_n}$,$ {x\\over w_ne^w_n} > 1$,$ {( w_n   +{x\\over w_ne^{w_n}}) > (1 + w_n)}$, which shows that \n",
    "${( w_n   +{x\\over w_ne^{w_n}})\\over (1 + w_n)} > 1$ and then ${w_{n + 1} \\over w_n} > 1$, ${w_{n + 1} >w_n}$"
   ]
  },
  {
   "cell_type": "code",
   "execution_count": 47,
   "id": "90421df7",
   "metadata": {},
   "outputs": [
    {
     "data": {
      "text/plain": [
       "lambert (generic function with 1 method)"
      ]
     },
     "execution_count": 47,
     "metadata": {},
     "output_type": "execute_result"
    }
   ],
   "source": [
    "function lambert(x::Real)\n",
    "y = exp(1) # initional w\n",
    "for n in 1:50\n",
    "z = exp(y)\n",
    "y = y*(y + x/(y*z))/(y+1) #calculate iterates\n",
    "end\n",
    "return y\n",
    "end"
   ]
  },
  {
   "cell_type": "code",
   "execution_count": 50,
   "id": "816d07dd",
   "metadata": {},
   "outputs": [
    {
     "data": {
      "text/plain": [
       "1.3267246652422002"
      ]
     },
     "execution_count": 50,
     "metadata": {},
     "output_type": "execute_result"
    }
   ],
   "source": [
    "lambert(5)\n"
   ]
  },
  {
   "cell_type": "code",
   "execution_count": 49,
   "id": "b86bad5a",
   "metadata": {},
   "outputs": [
    {
     "data": {
      "text/plain": [
       "1.0"
      ]
     },
     "execution_count": 49,
     "metadata": {},
     "output_type": "execute_result"
    }
   ],
   "source": [
    "lambert(exp(1))"
   ]
  },
  {
   "cell_type": "markdown",
   "id": "b793cb28",
   "metadata": {},
   "source": [
    "### question 4"
   ]
  },
  {
   "cell_type": "markdown",
   "id": "5000ec70",
   "metadata": {},
   "source": [
    "we know from the question that \n",
    "$x_{n + 1} -x_n = -{f(x_n) \\over f'(x_n) + 0.5 f''(x_n)(x - x_n) }$\n",
    "\n",
    "and $x_{n + 1} -x_n = -{ f(x_n) \\over f'(x_n)}$"
   ]
  },
  {
   "cell_type": "markdown",
   "id": "59639b5d",
   "metadata": {},
   "source": [
    "so $x_{n + 1} -x_n = -{f(x_n) \\over f'(x_n) - 0.5 f''(x_n){ f(x_n) \\over f'(x_n)}}$"
   ]
  },
  {
   "cell_type": "markdown",
   "id": "531b35f4",
   "metadata": {},
   "source": [
    " $x_{n + 1} -x_n = -{2f(x_n)f'(x_n) \\over 2f'(x_n)f'(x_n) -  f''(x_n){ f(x_n) }}$"
   ]
  },
  {
   "cell_type": "markdown",
   "id": "1d76eb3f",
   "metadata": {},
   "source": [
    "the iterates of Lambert’s equation is \n",
    "\n",
    "$w_{j + 1} = w - {we^w -x \\over {e^ww + e^w - {(w+2)(we^w-x) \\over 2w+2} }   }$"
   ]
  },
  {
   "cell_type": "markdown",
   "id": "fc4ea665",
   "metadata": {},
   "source": [
    "Halley convergence faster so it need less iterates, but Halley is more complex, need more calculation."
   ]
  },
  {
   "cell_type": "markdown",
   "id": "982736e2",
   "metadata": {},
   "source": [
    "### question 5"
   ]
  },
  {
   "cell_type": "markdown",
   "id": "1bc382b9",
   "metadata": {},
   "source": [
    "$f'(x) = 2 (sin({2 \\over x})x -cos({2 \\over x}))$"
   ]
  },
  {
   "cell_type": "markdown",
   "id": "2c58f28e",
   "metadata": {},
   "source": [
    "$x_{n+1} = x_n -{x + x^2sin({2 \\over x}) \\over 2 (sin({2 \\over x})x -cos({2 \\over x}) ) + 1}$"
   ]
  },
  {
   "cell_type": "markdown",
   "id": "38bd0296",
   "metadata": {},
   "source": [
    "$x_{n+1} - x_n = {{x } \\over 2 (sin({2 \\over x})x -cos({2 \\over x}) ) + 1} ={1 \\over 2 (sin({2 \\over x}) -{1\\over x}cos({2 \\over x}) ) + {1\\over x}} $"
   ]
  },
  {
   "cell_type": "markdown",
   "id": "cea47f84",
   "metadata": {},
   "source": [
    "for x is close to 0, $1 \\over x$ is close to positive infinity, and $2(sint -t cost) + t$ is from negative infinity and positive infinity, therefore $x_{n+1} - x_n$ is from negative infinity and positive infinity, which is not convergence, hence it is failed when x = 0"
   ]
  },
  {
   "cell_type": "markdown",
   "id": "e2e11801",
   "metadata": {},
   "source": [
    "### question 6"
   ]
  },
  {
   "cell_type": "markdown",
   "id": "bc257f32",
   "metadata": {},
   "source": [
    "$f(x) = x + x^{4\\over3}$"
   ]
  },
  {
   "cell_type": "markdown",
   "id": "327b2819",
   "metadata": {},
   "source": [
    "$f'(x) = 1 + {4 \\over 3}x^{1\\over3}$"
   ]
  },
  {
   "cell_type": "markdown",
   "id": "245de68f",
   "metadata": {},
   "source": [
    "$x_{n+1}=x_{n }- {x + x^{4\\over3} \\over 1 + {4 \\over 3}x^{1\\over3}}\n",
    "= {{ x^{4\\over3} \\over 3} \\over 1 + {4 \\over 3}x^{1\\over3}}$"
   ]
  },
  {
   "cell_type": "markdown",
   "id": "72a2edde",
   "metadata": {},
   "source": [
    "\n",
    "${x_{n+1} \\over x } =  {x^{1\\over3} \\over {4 \\over 3}x^{1\\over3} + 1}$, we can see from this equation that $x_{1}$ is decreasing\n",
    "\n",
    "${x_{n+1} \\over x^{4\\over3} } =  {{1\\over 3} \\over {4 \\over 3}x^{1\\over3} + 1}$, $x_0$ is close to 0, and ${x_n}$ is decreasing,  so that ${4 \\over 3}x^{1\\over3} $ is close to 0,  ${{4 \\over 3}x^{1\\over3} + 1}$ is close to 1, hence we shown that $lim{x_{n+1} \\over x^{4\\over3} } = {1 \\over 3}$\n"
   ]
  }
 ],
 "metadata": {
  "kernelspec": {
   "display_name": "Julia 1.8.1",
   "language": "julia",
   "name": "julia-1.8"
  },
  "language_info": {
   "file_extension": ".jl",
   "mimetype": "application/julia",
   "name": "julia",
   "version": "1.8.1"
  }
 },
 "nbformat": 4,
 "nbformat_minor": 5
}
