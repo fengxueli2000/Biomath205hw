{
 "cells": [
  {
   "cell_type": "markdown",
   "id": "08bd7f14",
   "metadata": {},
   "source": [
    "### question 1\n",
    "\n",
    "$g(x_{n + 1} |x_n) < g(x_n|x_n) =f(x_n) <f(x_{n-1} \\leq g(x_n|x_{n-1})$\n",
    "\n",
    "therefore we shown that $g(x_{n + 1} |x_n)< g(x_n|x_{n-1})$,which means that $g(x_{n + 1} |x_n)$ is decreasing"
   ]
  },
  {
   "cell_type": "markdown",
   "id": "45db2868",
   "metadata": {},
   "source": [
    "### questiion 2"
   ]
  },
  {
   "cell_type": "markdown",
   "id": "5966c5cd",
   "metadata": {},
   "source": [
    "1) if $\\nabla f(x) > \\nabla g(x|x)$, we know that for $f(x) = g(x|x) and g(x|x) \\geq f(x)$, suppose it is a  majorization-minimization problem.\n",
    "\n",
    "we know by Taylor expansion, \n",
    "\n",
    "\n",
    "$f(x')= f(x) +\\nabla f(x)(x' - x)$\n",
    "\n",
    "$g(x'|x) = g(x|x) + \\nabla g(x|x)(x' - x)$\n",
    "\n",
    "let x'>x\n",
    "\n",
    "$f(x') - g(x'|x) = f(x) + \\nabla f(x)(x' - x) - g(x|x) - \\nabla g(x|x)(x' - x) = $\n",
    "$(\\nabla f(x) - \\nabla g(x|x))(x' - x) > 0$\n",
    "\n",
    "and we get $f(x') > g(x'|x)$, which is a contradiction because $g(x|x) \\geq f(x)$"
   ]
  },
  {
   "cell_type": "markdown",
   "id": "5b8ba795",
   "metadata": {},
   "source": [
    "1) if $\\nabla f(x) < \\nabla g(x|x)$,\n",
    "\n",
    "$f(x')= f(x) +\\nabla f(x)(x' - x)$\n",
    "\n",
    "$g(x'|x) = g(x|x) + \\nabla g(x|x)(x' - x)$\n",
    "\n",
    "let x'<x\n",
    "         \n",
    "$f(x') - g(x'|x) = f(x) + \\nabla f(x)(x' - x) - g(x|x) - \\nabla g(x|x)(x' - x) = $\n",
    "$(\\nabla f(x) - \\nabla g(x|x))(x' - x) > 0$\n",
    "         \n",
    "and we get $f(x') > g(x'|x)$, which is a contradiction because $g(x|x) \\geq f(x)$\n",
    "         \n",
    "we can show majorization-maximum problem the same way"
   ]
  },
  {
   "cell_type": "markdown",
   "id": "10af17dd",
   "metadata": {},
   "source": [
    "### question 6"
   ]
  },
  {
   "cell_type": "markdown",
   "id": "415a4eb8",
   "metadata": {},
   "source": [
    "we want to show this inequality\n",
    "$(x+y+z)^2 \\leq -(x_n + y_n -z_n)^2 + 2(x_n + y_n-z_n)(x+y-z) +3[(x-x_n)^2\n",
    "+(y-y_n)^2 +(z-z_n)^2]$\n"
   ]
  },
  {
   "cell_type": "markdown",
   "id": "e83dce3b",
   "metadata": {},
   "source": [
    "which is equivalent with $(x+y+z)^2 + (x_n + y_n -z_n)^2 - 2(x_n + y_n-z_n)(x+y-z)  \\leq\n",
    "3[(x-x_n)^2\n",
    "+(y-y_n)^2 +(z-z_n)^2]$"
   ]
  },
  {
   "cell_type": "markdown",
   "id": "e3ffce32",
   "metadata": {},
   "source": [
    "which is equivalent with $(x+y+z -x_n  - y_n +z_n)^2 \\leq\n",
    "3[(x-x_n)^2\n",
    "+(y-y_n)^2 +(z-z_n)^2]$"
   ]
  },
  {
   "cell_type": "markdown",
   "id": "eab889b6",
   "metadata": {},
   "source": [
    "$((x-x_n)+ (y-y_n)- (z-z_n))^2 \\leq\n",
    "3[(x-x_n)^2\n",
    "+(y-y_n)^2 +(z-z_n)^2]$"
   ]
  },
  {
   "cell_type": "markdown",
   "id": "2a258a63",
   "metadata": {},
   "source": [
    "let a = $(x-x_n)$, b = $(y-y_n)$, c= $(z-z_n)$"
   ]
  },
  {
   "cell_type": "markdown",
   "id": "1b61f78b",
   "metadata": {},
   "source": [
    "the upper equation is $(a+b-c)^2 \\leq 3(a^2 + b^2 + c^2)$\n",
    "\n",
    "which is equivalent with $a^2 + b^2 + c^2 + 2ab-2ac-2bc\\leq3(a^2 + b^2 + c^2)$\n",
    "\n",
    " $2ab-2ac-2bc\\leq 2(a^2 + b^2 + c^2)$\n",
    " \n",
    "$0 \\leq 2(a^2 + b^2 + c^2) + 2bc+2ac-2ab$\n",
    "\n",
    "$0 \\leq (b^2 +c^2 + 2bc)+ (a^2 +c^2 +2ac)+(a^2 + b^2-2ab)$\n",
    "\n",
    "which is equivalent with $o \\leq (b+c)^2 +(a+c)^2 +(a-b)^2$,which is obvious.\n",
    "\n",
    "therefore we shown the inequality."
   ]
  },
  {
   "cell_type": "markdown",
   "id": "174899f5",
   "metadata": {},
   "source": [
    "### question 7"
   ]
  },
  {
   "cell_type": "markdown",
   "id": "d2c0e7d8",
   "metadata": {},
   "source": [
    "$f(x) = e^{-x^2}$"
   ]
  },
  {
   "cell_type": "markdown",
   "id": "0f4a83a0",
   "metadata": {},
   "source": [
    "the first derivative: $f'(x) = -2xe^{-x^2}$"
   ]
  },
  {
   "cell_type": "markdown",
   "id": "f40ef8ea",
   "metadata": {},
   "source": [
    "the second derivative: $f'(x) = (4x^2 - 2)e^{-x^2}$"
   ]
  },
  {
   "cell_type": "markdown",
   "id": "eaa1494f",
   "metadata": {},
   "source": [
    " quadratic upper bound\n",
    "\n",
    "$f(x) \\leq f(x_n) -2xe^{-x^2} (x_n - x) + {(4x^2 - 2)e^{-x^2} \\over 2}(x_n - x)^2$"
   ]
  },
  {
   "cell_type": "markdown",
   "id": "fb59d15a",
   "metadata": {},
   "source": [
    "### question 8"
   ]
  },
  {
   "cell_type": "markdown",
   "id": "6acd5fd2",
   "metadata": {},
   "source": [
    "$f(x) = ln(1+e^x)$\n",
    "\n",
    "first derivative $f'(x) = {e^x \\over e^x + 1}$\n",
    "\n",
    "second derivative $f''(x) = {e^x \\over (e^x + 1)^2}$\n",
    "\n",
    "$f(x) \\leq f(x_n) + f'(x_n)(x-x_n) + {e^x \\over (e^x + 1)^2}{1 \\over 2}(x-x_n)^2$"
   ]
  },
  {
   "cell_type": "markdown",
   "id": "259e380f",
   "metadata": {},
   "source": [
    "we want to show $ {e^x \\over (e^x + 1)^2} \\leq {1 \\over 4}$"
   ]
  },
  {
   "cell_type": "markdown",
   "id": "cbfcd32b",
   "metadata": {},
   "source": [
    "get the derivative of ${e^x \\over (e^x + 1)^2}$ is\n",
    "$-{e^x(e^x-1) \\over (e^x+1)^3}$, we get max at x = 0, and ${e^0 \\over (e^0 + 1)^2} = {1 \\over 4}$ "
   ]
  },
  {
   "cell_type": "markdown",
   "id": "5b463f5e",
   "metadata": {},
   "source": [
    "so we shown\n",
    "\n",
    "$f(x) \\leq f(x_n) + f'(x_n)(x-x_n) +\n",
    "{e^x \\over (e^x + 1)^2}{1 \\over 2}(x-x_n)^2 \\leq\n",
    "f(x_n) + f'(x_n)(x-x_n) +{1\\over 8}(x-x_n)^2$"
   ]
  },
  {
   "cell_type": "markdown",
   "id": "63b1ceae",
   "metadata": {},
   "source": [
    "### question 9\n",
    "\n",
    "$xy \\leq {1\\over 2}(x^2 + y^2) + {1\\over 2}(x_n -y_n)^2-(x_n-y_n)(x-y)$"
   ]
  },
  {
   "cell_type": "markdown",
   "id": "65da2139",
   "metadata": {},
   "source": [
    "which is equivalent with \n",
    "$0 \\leq {1\\over 2}(x^2 + y^2)-xy + {1\\over 2}(x_n -y_n)^2-(x_n-y_n)(x-y)$\n",
    "\n",
    "which is equivalent with \n",
    "\n",
    "$0 \\leq {1\\over 2}(x-y)^2 + {1\\over 2}(x_n -y_n)^2-(x_n-y_n)(x-y)$\n",
    "\n",
    "which is equivalent with \n",
    "\n",
    "$0 \\leq {1\\over 2}(x-y-x_n+y_n)^2$,which is obvious.\n"
   ]
  },
  {
   "cell_type": "markdown",
   "id": "5a63b2a5",
   "metadata": {},
   "source": [
    "for the seocnd inequility we shown in the same way\n",
    "\n",
    "$-xy \\leq {1\\over 2}(x^2 + y^2) + {1\\over 2}(x_n -y_n)^2-(x_n-y_n)(x-y)$\n",
    "\n",
    "is equivalent with $0 \\leq {1\\over 2}(x+y-x_n+y_n)^2$,which is obvious"
   ]
  },
  {
   "cell_type": "markdown",
   "id": "5ee50770",
   "metadata": {},
   "source": [
    "### question 11"
   ]
  },
  {
   "cell_type": "markdown",
   "id": "2475560f",
   "metadata": {},
   "source": [
    "## CHAPTER 10"
   ]
  },
  {
   "cell_type": "code",
   "execution_count": 4,
   "id": "7f670576",
   "metadata": {},
   "outputs": [
    {
     "name": "stderr",
     "output_type": "stream",
     "text": [
      "\u001b[32m\u001b[1m    Updating\u001b[22m\u001b[39m registry at `~/.julia/registries/General.toml`\n",
      "\u001b[32m\u001b[1m   Resolving\u001b[22m\u001b[39m package versions...\n",
      "\u001b[32m\u001b[1m  No Changes\u001b[22m\u001b[39m to `~/.julia/environments/v1.8/Project.toml`\n",
      "\u001b[32m\u001b[1m  No Changes\u001b[22m\u001b[39m to `~/.julia/environments/v1.8/Manifest.toml`\n"
     ]
    }
   ],
   "source": [
    "using Pkg\n",
    "Pkg.add(\"Distances\")"
   ]
  },
  {
   "cell_type": "code",
   "execution_count": 5,
   "id": "c70824de",
   "metadata": {},
   "outputs": [],
   "source": [
    "using Distances"
   ]
  },
  {
   "cell_type": "markdown",
   "id": "679a11cc",
   "metadata": {},
   "source": [
    "we use the package distance to get the L1 norm"
   ]
  },
  {
   "cell_type": "code",
   "execution_count": 6,
   "id": "6287f796",
   "metadata": {},
   "outputs": [
    {
     "data": {
      "text/plain": [
       "L1means (generic function with 1 method)"
      ]
     },
     "execution_count": 6,
     "metadata": {},
     "output_type": "execute_result"
    }
   ],
   "source": [
    "# we use L1 norm\n",
    "function L1means(X::Matrix{T}, class::Vector{Int},\n",
    "k::Integer) where T <: Real\n",
    "(features, points) = size(X)\n",
    "(center, members) = (zeros(T, features, k), zeros(Int, k))\n",
    "switched = true\n",
    "while switched # iterate until memberships stabilize\n",
    "fill!(center, zero(T)) # update centers\n",
    "fill!(members, 0)\n",
    "for point = 1:points\n",
    "i = class[point]\n",
    "center[:, i] = center[:, i] + X[:, point]\n",
    "members[i] = members[i] + 1\n",
    "end\n",
    "for j = 1:k\n",
    "center[:, j] = center[:, j] / max(members[j], 1)\n",
    "end\n",
    "switched = false # update classes\n",
    "dist = pairwise(Cityblock(), center, X, dims = 2) # distances\n",
    "for point = 1:points\n",
    "j = argmin(dist[:, point]) # closest center\n",
    "if class[point] != j\n",
    "class[point] = j\n",
    "switched = true\n",
    "end\n",
    "end\n",
    "end\n",
    "    return (class, center)\n",
    "end"
   ]
  },
  {
   "cell_type": "code",
   "execution_count": 7,
   "id": "546a09cc",
   "metadata": {},
   "outputs": [
    {
     "name": "stdout",
     "output_type": "stream",
     "text": [
      "[1, 1, 1, 1, 1, 1, 1, 1, 1, 1, 1, 1, 1, 1, 1, 1, 1, 1, 1, 1, 1, 1, 1, 1, 1, 1, 1, 1, 1, 1, 1, 1, 1, 1, 1, 1, 1, 1, 1, 1, 1, 1, 1, 1, 1, 1, 1, 1, 1, 1, 1, 1, 1, 1, 1, 1, 1, 1, 1, 1, 1, 1, 1, 1, 1, 1, 1, 1, 1, 1, 1, 1, 1, 1, 1, 1, 1, 1, 1, 1, 1, 1, 1, 1, 1, 1, 1, 1, 1, 1, 1, 1, 1, 1, 1, 1, 1, 1, 1, 1, 2, 2, 2, 2, 2, 2, 2, 2, 2, 2, 2, 2, 2, 2, 2, 2, 2, 2, 2, 2, 2, 2, 2, 2, 2, 2, 2, 2, 2, 2, 2, 2, 2, 2, 2, 2, 2, 2, 2, 2, 2, 2, 2, 2, 2, 2, 2, 2, 2, 2, 2, 2, 2, 2, 2, 2, 2, 2, 2, 2, 2, 2, 2, 2, 2, 2, 2, 2, 2, 2, 2, 2, 2, 2, 2, 2, 2, 2, 2, 2, 2, 2, 2, 2, 2, 2, 2, 2, 2, 2, 2, 2, 2, 2, 2, 2, 2, 2, 2, 2, 3, 3, 3, 3, 3, 3, 3, 3, 3, 3, 3, 3, 3, 3, 3, 3, 3, 3, 3, 3, 3, 3, 3, 3, 3, 3, 3, 3, 3, 3, 3, 3, 3, 3, 3, 3, 3, 3, 3, 3, 3, 3, 3, 3, 3, 3, 3, 3, 3, 3, 3, 3, 3, 3, 3, 3, 3, 3, 3, 3, 3, 3, 3, 3, 3, 3, 3, 3, 3, 3, 3, 3, 3, 3, 3, 3, 3, 3, 3, 3, 3, 3, 3, 3, 3, 3, 3, 3, 3, 3, 3, 3, 3, 3, 3, 3, 3, 3, 3, 3]\n"
     ]
    }
   ],
   "source": [
    "k = 3;\n",
    "X = randn(100, 300);\n",
    "X[:, 101:200] = X[:, 101:200] .+ 1.0;\n",
    "X[:, 201:300] = X[:, 201:300] .+ 2.0;\n",
    "class = rand(1:k, 300); # k classes randomly assigned\n",
    "(class, center) = L1means(X, class, k);\n",
    "println(class)"
   ]
  },
  {
   "cell_type": "markdown",
   "id": "d47ed405",
   "metadata": {},
   "source": [
    "### question 4"
   ]
  },
  {
   "cell_type": "markdown",
   "id": "bd8c818a",
   "metadata": {},
   "source": [
    "$f(x) = \\sum w_i h( ||x-y_i||^2)$"
   ]
  },
  {
   "cell_type": "markdown",
   "id": "7049163c",
   "metadata": {},
   "source": [
    "first we calculate the derivative of $f(x)$"
   ]
  },
  {
   "cell_type": "markdown",
   "id": "5474455a",
   "metadata": {},
   "source": [
    "$f'(x) = \\sum w_i h'(||x-y_i||^2)(x - y_i)$"
   ]
  },
  {
   "cell_type": "markdown",
   "id": "33e9c606",
   "metadata": {},
   "source": [
    "$ = \\sum w_i h'(||x-y_i||^2)(x - y_i) {\\sum w_i h'(||x-y_i||^2) \\over \\sum w_i h'(||x-y_i||^2)}$"
   ]
  },
  {
   "cell_type": "markdown",
   "id": "7a802c4a",
   "metadata": {},
   "source": [
    "$ =\\sum w_i h'(||x-y_i||^2){\\sum w_i h'(||x-y_i||^2)(x - y_i)  \\over  \\sum w_i h'(||x-y_i||^2)} $"
   ]
  },
  {
   "cell_type": "markdown",
   "id": "52c0ac38",
   "metadata": {},
   "source": [
    "$= \\sum w_i h'(||x-y_i||^2){\\sum w_i h'(||x-y_i||^2)x -\\sum w_i h'(||x-y_i||^2)y_i \\over  \\sum w_i h'(||x-y_i||^2) }$"
   ]
  },
  {
   "cell_type": "markdown",
   "id": "0e38fe45",
   "metadata": {},
   "source": [
    "$  = \\sum w_i h'(||x-y_i||^2){x\\sum w_i h'(||x-y_i||^2) -\\sum w_i h'(||x-y_i||^2)y_i \\over  \\sum w_i h'(||x-y_i||^2) }$"
   ]
  },
  {
   "cell_type": "markdown",
   "id": "c8bbced0",
   "metadata": {},
   "source": [
    "$ = \\sum w_i h'(||x-y_i||^2) (x -{\\sum w_i h'(||x-y_i||^2)y_i \\over  \\sum w_i h'(||x-y_i||^2) }) $ = 0, where we get the maximum of the $f(x)$"
   ]
  },
  {
   "cell_type": "markdown",
   "id": "a7368844",
   "metadata": {},
   "source": [
    "therefore \n",
    "\n",
    "$x_{n+1} = {\\sum w_i h'(||x_n-y_i||^2)y_i \\over  \\sum w_i h'(||x_n-y_i||^2) }$"
   ]
  },
  {
   "cell_type": "markdown",
   "id": "02bef9f3",
   "metadata": {},
   "source": [
    "$f(x)$ is a convex function"
   ]
  },
  {
   "cell_type": "markdown",
   "id": "ea286e73",
   "metadata": {},
   "source": [
    "$f(E(x_{n+1}) \\leq E(f(x_{n+1}))$"
   ]
  },
  {
   "cell_type": "markdown",
   "id": "359cf8b2",
   "metadata": {},
   "source": [
    "therefore it is a MM algorithm"
   ]
  },
  {
   "cell_type": "markdown",
   "id": "0b748317",
   "metadata": {},
   "source": [
    "for $h(s) = e^{-cs}$\n",
    "\n",
    "$h'(s) = -c e^{-cs}$\n",
    "\n",
    "$x_{n+1} = {\\sum w_i c \\exp({x_n-y_i})^2 y_i \\over \\sum w_i c \\exp({x_n-y_i})^2 }$\n"
   ]
  },
  {
   "cell_type": "markdown",
   "id": "c7e6a591",
   "metadata": {},
   "source": [
    "### question 9"
   ]
  },
  {
   "cell_type": "markdown",
   "id": "261535b8",
   "metadata": {},
   "source": [
    "it is obvious that\n",
    "$\\ln \\sum u_{ik}v_{kj} = \\sum {a_{nikj} \\over s_{nij}}{s_{nij}\\over a_{nikj}}u_{ik}v_{kj} $"
   ]
  },
  {
   "cell_type": "markdown",
   "id": "7a59fc21",
   "metadata": {},
   "source": [
    "because lnx is concave function, by Jensen's inequality\n",
    "$\\sum {a_{nikj} \\over s_{nij}}{s_{nij}\\over a_{nikj}}u_{ik}v_{kj} \\geq \\sum {a_{nikj} \\over s_{nij}} ln({s_{nij}\\over a_{nikj}}u_{ik}v_{kj})  $ because $\\sum {a_{nikj} \\over s_{nij}} = 1$"
   ]
  },
  {
   "cell_type": "markdown",
   "id": "593d165b",
   "metadata": {},
   "source": [
    "therefore we shown the minorization"
   ]
  },
  {
   "cell_type": "markdown",
   "id": "8b9666d1",
   "metadata": {},
   "source": [
    "$g(U,V|U_m,V_m) =\\sum_{i} \\sum_{j} ( y_{ij} \\sum_{k} {a_{nikj} \\over s_{nij}} ln({s_{nij}\\over a_{nikj}}u_{ik}v_{kj}) -\\sum_{k}u_{ik} v_{ki})$"
   ]
  },
  {
   "cell_type": "markdown",
   "id": "ca1d4094",
   "metadata": {},
   "source": [
    "get the derivative respect to $u_ik$\n",
    "\n",
    "$\\frac{\\partial g(U,V|U_m,V_m) }{\\partial u_{ik}} = \\frac{\\partial(y_{ij} {a_{nikj} \\over s_{nij}} ln({s_{nij}\\over a_{nikj}}u_{ik}v_{kj}) -u_{ik} v_{ki}) }{\\partial u_{ik}} $"
   ]
  },
  {
   "cell_type": "markdown",
   "id": "f5def15b",
   "metadata": {},
   "source": [
    "= $\\sum_{j}((y_{ij} {a_{nikj} \\over s_{nij}}{{s_{nij}\\over a_{nikj}} v_{kj} \\over {s_{nij}\\over a_{nikj}} u_{ik}v_{kj}} - v_{kj} )$"
   ]
  },
  {
   "cell_type": "markdown",
   "id": "bcbd99eb",
   "metadata": {},
   "source": [
    "= $\\sum_{j}(y_{ij} {a_{nikj} \\over s_{nij}} {1 \\over  u_{ik}} - v_{kj} )$"
   ]
  },
  {
   "cell_type": "markdown",
   "id": "e67fb0ff",
   "metadata": {},
   "source": [
    "$ =\\sum_{j}(y_{ij} {a_{nikj} \\over s_{nij}} {1 \\over  u_{ik}})  - \\sum_{j}v_{kj}  =0 $"
   ]
  },
  {
   "cell_type": "markdown",
   "id": "7773f13a",
   "metadata": {},
   "source": [
    "$ \\sum_{j}y_{ij} {a_{nikj} \\over s_{nij}}  {1 \\over \\sum_{j}v_{kj}}  =  u_{ik} $"
   ]
  },
  {
   "cell_type": "markdown",
   "id": "760499db",
   "metadata": {},
   "source": [
    "$a_{nikj} = u_{nik} v_{nkj} $"
   ]
  },
  {
   "cell_type": "markdown",
   "id": "ac313e6e",
   "metadata": {},
   "source": [
    "therefore  $u_{(n+1)ik} = { \\sum_{j} {y_{ij} u_{nik} v_{nkj}  \\over s_{nij}} \\over \\sum_{j}v_{nkj}}\n",
    " = u_{nik} { \\sum_{j} {y_{ij}  v_{nkj}  \\over s_{nij}} \\over \\sum_{j}v_{nkj}}$"
   ]
  },
  {
   "cell_type": "markdown",
   "id": "fdcbd184",
   "metadata": {},
   "source": [
    "$v_{(n+1)kj}$ we updates in the same way"
   ]
  },
  {
   "cell_type": "markdown",
   "id": "6998a9b0",
   "metadata": {},
   "source": [
    "$\\frac{\\partial g(U,V|U_m,V_m) }{\\partial v_{kj}}$=\n",
    "$ =\\sum_{i}(y_{ij}{a_{nikj} \\over s_{nij}} {1 \\over  v_{kj}})  - \\sum_{i}u_{ik}  =0 $"
   ]
  },
  {
   "cell_type": "markdown",
   "id": "039dbf94",
   "metadata": {},
   "source": [
    " $v_{(n+1)kj} = v_{nkj} { \\sum_{i} {y_{ij}  u_{nik}  \\over s_{nij}} \\over \\sum_{i}u_{nik}}$"
   ]
  },
  {
   "cell_type": "code",
   "execution_count": null,
   "id": "ea4b89ed",
   "metadata": {},
   "outputs": [],
   "source": []
  }
 ],
 "metadata": {
  "kernelspec": {
   "display_name": "Julia 1.8.1",
   "language": "julia",
   "name": "julia-1.8"
  },
  "language_info": {
   "file_extension": ".jl",
   "mimetype": "application/julia",
   "name": "julia",
   "version": "1.8.1"
  }
 },
 "nbformat": 4,
 "nbformat_minor": 5
}
